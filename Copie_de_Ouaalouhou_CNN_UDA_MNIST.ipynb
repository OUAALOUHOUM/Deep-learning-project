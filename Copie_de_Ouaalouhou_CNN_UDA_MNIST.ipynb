{
  "nbformat": 4,
  "nbformat_minor": 0,
  "metadata": {
    "kernelspec": {
      "display_name": "Python 3",
      "language": "python",
      "name": "python3"
    },
    "language_info": {
      "codemirror_mode": {
        "name": "ipython",
        "version": 2
      },
      "file_extension": ".py",
      "mimetype": "text/x-python",
      "name": "python",
      "nbconvert_exporter": "python",
      "pygments_lexer": "ipython2",
      "version": "2.7.15rc1"
    },
    "colab": {
      "provenance": [],
      "include_colab_link": true
    },
    "accelerator": "GPU"
  },
  "cells": [
    {
      "cell_type": "markdown",
      "metadata": {
        "id": "view-in-github",
        "colab_type": "text"
      },
      "source": [
        "<a href=\"https://colab.research.google.com/github/OUAALOUHOUM/Deep-learning-project/blob/main/Copie_de_Ouaalouhou_CNN_UDA_MNIST.ipynb\" target=\"_parent\"><img src=\"https://colab.research.google.com/assets/colab-badge.svg\" alt=\"Open In Colab\"/></a>"
      ]
    },
    {
      "cell_type": "code",
      "metadata": {
        "id": "zpxAOAZpUgyk"
      },
      "source": [
        "from sklearn.utils import shuffle\n",
        "from keras.datasets import mnist\n",
        "import pandas as pd\n",
        "import numpy as np\n",
        "import matplotlib.pyplot as plt\n",
        "import matplotlib.image as mpimg\n",
        "from sklearn.model_selection import train_test_split\n",
        "from sklearn.metrics import confusion_matrix\n",
        "import itertools\n",
        "from keras.utils.np_utils import to_categorical # convert to one-hot-encoding\n",
        "from keras.models import Sequential, load_model\n",
        "from keras.layers import Dense, Dropout, Flatten, Conv2D, MaxPool2D, Activation, BatchNormalization, MaxPooling2D\n",
        "from tensorflow.keras.optimizers import RMSprop\n",
        "from keras.preprocessing.image import ImageDataGenerator\n",
        "from keras.callbacks import ModelCheckpoint\n",
        "from keras import models\n",
        "from collections import Counter\n",
        "from tensorflow.keras.utils import to_categorical,Sequence"
      ],
      "execution_count": 1,
      "outputs": []
    },
    {
      "cell_type": "code",
      "metadata": {
        "id": "GOtDLdnKUgym",
        "colab": {
          "base_uri": "https://localhost:8080/"
        },
        "outputId": "57300344-e992-42bf-c08b-279126a56624"
      },
      "source": [
        "(train_images, train_labels), (test_images, test_labels) = mnist.load_data()\n",
        "train_images = train_images.reshape((60000, 28, 28, 1))\n",
        "train_images = train_images.astype('float32') / 255\n",
        "test_images = test_images.reshape((10000, 28, 28, 1)) \n",
        "test_images = test_images.astype('float32') / 255\n",
        "# train_labels = to_categorical(train_labels) \n",
        "test_labels = to_categorical(test_labels)\n",
        "\n",
        "\n",
        "x, y = shuffle(train_images, train_labels, random_state=15)\n",
        "x_train = x[0:100]\n",
        "y_train = y[0:100].reshape(-1, 1)\n",
        "y_train = to_categorical(y_train) "
      ],
      "execution_count": 2,
      "outputs": [
        {
          "output_type": "stream",
          "name": "stdout",
          "text": [
            "Downloading data from https://storage.googleapis.com/tensorflow/tf-keras-datasets/mnist.npz\n",
            "11490434/11490434 [==============================] - 0s 0us/step\n"
          ]
        }
      ]
    },
    {
      "cell_type": "code",
      "metadata": {
        "colab": {
          "base_uri": "https://localhost:8080/"
        },
        "id": "nVXVXhu4051b",
        "outputId": "592d3b62-eefd-49d9-8111-d3aaf636aa6f"
      },
      "source": [
        "x_train.shape"
      ],
      "execution_count": 3,
      "outputs": [
        {
          "output_type": "execute_result",
          "data": {
            "text/plain": [
              "(100, 28, 28, 1)"
            ]
          },
          "metadata": {},
          "execution_count": 3
        }
      ]
    },
    {
      "cell_type": "code",
      "metadata": {
        "id": "V2ECiNv3Ugyn",
        "colab": {
          "base_uri": "https://localhost:8080/"
        },
        "outputId": "9818bbff-89fc-4c12-e811-68b8bfd6efb4"
      },
      "source": [
        "Counter(y[0:100])"
      ],
      "execution_count": 4,
      "outputs": [
        {
          "output_type": "execute_result",
          "data": {
            "text/plain": [
              "Counter({4: 12, 2: 11, 5: 8, 8: 8, 7: 13, 1: 12, 9: 9, 0: 7, 3: 8, 6: 12})"
            ]
          },
          "metadata": {},
          "execution_count": 4
        }
      ]
    },
    {
      "cell_type": "code",
      "source": [
        "EPOCHES = 100"
      ],
      "metadata": {
        "id": "dR3Ncb_PBMGO"
      },
      "execution_count": 5,
      "outputs": []
    },
    {
      "cell_type": "markdown",
      "metadata": {
        "id": "IBBBapmYUgyo"
      },
      "source": [
        "# Without augmentation"
      ]
    },
    {
      "cell_type": "code",
      "metadata": {
        "id": "lQ1QVskJUgyp"
      },
      "source": [
        "model = models.Sequential()\n",
        "model.add(Conv2D(32, (3, 3), input_shape=(28,28,1)))\n",
        "model.add(Activation('relu'))\n",
        "model.add(BatchNormalization(axis=-1))\n",
        "\n",
        "model.add(Conv2D(32, (3, 3)))\n",
        "model.add(Activation('relu'))\n",
        "model.add(MaxPooling2D(pool_size=(2,2)))\n",
        "\n",
        "model.add(BatchNormalization(axis=-1))\n",
        "model.add(Conv2D(64,(3, 3)))\n",
        "model.add(Activation('relu'))\n",
        "model.add(BatchNormalization(axis=-1))\n",
        "model.add(Conv2D(64, (3, 3)))\n",
        "model.add(Activation('relu'))\n",
        "model.add(MaxPooling2D(pool_size=(2,2)))\n",
        "\n",
        "model.add(Flatten())\n",
        "model.add(Dense(256, activation = \"relu\"))\n",
        "model.add(Dropout(0.5))\n",
        "model.add(Dense(10, activation = \"softmax\"))\n",
        "\n",
        "mcp = ModelCheckpoint(\"/content/baseline_best.h5\", monitor='val_accuracy', verbose=0, save_best_only=True, mode='auto')\n",
        "\n",
        "model.compile(loss='categorical_crossentropy', optimizer = \"adam\", metrics = [\"accuracy\"])"
      ],
      "execution_count": 6,
      "outputs": []
    },
    {
      "cell_type": "code",
      "metadata": {
        "id": "f-LbSVbCUgyq",
        "colab": {
          "base_uri": "https://localhost:8080/"
        },
        "outputId": "ac0c4a55-0293-4298-e527-01cca6a11897"
      },
      "source": [
        "model.summary()"
      ],
      "execution_count": 7,
      "outputs": [
        {
          "output_type": "stream",
          "name": "stdout",
          "text": [
            "Model: \"sequential\"\n",
            "_________________________________________________________________\n",
            " Layer (type)                Output Shape              Param #   \n",
            "=================================================================\n",
            " conv2d (Conv2D)             (None, 26, 26, 32)        320       \n",
            "                                                                 \n",
            " activation (Activation)     (None, 26, 26, 32)        0         \n",
            "                                                                 \n",
            " batch_normalization (BatchN  (None, 26, 26, 32)       128       \n",
            " ormalization)                                                   \n",
            "                                                                 \n",
            " conv2d_1 (Conv2D)           (None, 24, 24, 32)        9248      \n",
            "                                                                 \n",
            " activation_1 (Activation)   (None, 24, 24, 32)        0         \n",
            "                                                                 \n",
            " max_pooling2d (MaxPooling2D  (None, 12, 12, 32)       0         \n",
            " )                                                               \n",
            "                                                                 \n",
            " batch_normalization_1 (Batc  (None, 12, 12, 32)       128       \n",
            " hNormalization)                                                 \n",
            "                                                                 \n",
            " conv2d_2 (Conv2D)           (None, 10, 10, 64)        18496     \n",
            "                                                                 \n",
            " activation_2 (Activation)   (None, 10, 10, 64)        0         \n",
            "                                                                 \n",
            " batch_normalization_2 (Batc  (None, 10, 10, 64)       256       \n",
            " hNormalization)                                                 \n",
            "                                                                 \n",
            " conv2d_3 (Conv2D)           (None, 8, 8, 64)          36928     \n",
            "                                                                 \n",
            " activation_3 (Activation)   (None, 8, 8, 64)          0         \n",
            "                                                                 \n",
            " max_pooling2d_1 (MaxPooling  (None, 4, 4, 64)         0         \n",
            " 2D)                                                             \n",
            "                                                                 \n",
            " flatten (Flatten)           (None, 1024)              0         \n",
            "                                                                 \n",
            " dense (Dense)               (None, 256)               262400    \n",
            "                                                                 \n",
            " dropout (Dropout)           (None, 256)               0         \n",
            "                                                                 \n",
            " dense_1 (Dense)             (None, 10)                2570      \n",
            "                                                                 \n",
            "=================================================================\n",
            "Total params: 330,474\n",
            "Trainable params: 330,218\n",
            "Non-trainable params: 256\n",
            "_________________________________________________________________\n"
          ]
        }
      ]
    },
    {
      "cell_type": "code",
      "metadata": {
        "id": "5R9U5rDGUgyr",
        "colab": {
          "base_uri": "https://localhost:8080/"
        },
        "outputId": "8b2d1d9e-5f7e-4c93-8d5c-32b0c8740ad0"
      },
      "source": [
        "history = model.fit(x_train, y_train, validation_data=(test_images, test_labels), epochs=EPOCHES, callbacks=[mcp])"
      ],
      "execution_count": 8,
      "outputs": [
        {
          "output_type": "stream",
          "name": "stdout",
          "text": [
            "Epoch 1/100\n",
            "4/4 [==============================] - 23s 1s/step - loss: 3.2294 - accuracy: 0.1400 - val_loss: 2.2843 - val_accuracy: 0.2071\n",
            "Epoch 2/100\n",
            "4/4 [==============================] - 1s 305ms/step - loss: 1.8237 - accuracy: 0.4200 - val_loss: 2.2759 - val_accuracy: 0.3882\n",
            "Epoch 3/100\n",
            "4/4 [==============================] - 1s 435ms/step - loss: 1.2892 - accuracy: 0.5400 - val_loss: 2.2708 - val_accuracy: 0.1749\n",
            "Epoch 4/100\n",
            "4/4 [==============================] - 1s 291ms/step - loss: 1.1368 - accuracy: 0.6200 - val_loss: 2.2659 - val_accuracy: 0.1242\n",
            "Epoch 5/100\n",
            "4/4 [==============================] - 1s 435ms/step - loss: 0.7300 - accuracy: 0.7500 - val_loss: 2.2638 - val_accuracy: 0.1207\n",
            "Epoch 6/100\n",
            "4/4 [==============================] - 1s 435ms/step - loss: 0.7175 - accuracy: 0.7600 - val_loss: 2.2656 - val_accuracy: 0.1135\n",
            "Epoch 7/100\n",
            "4/4 [==============================] - 1s 292ms/step - loss: 0.5207 - accuracy: 0.7800 - val_loss: 2.2674 - val_accuracy: 0.1135\n",
            "Epoch 8/100\n",
            "4/4 [==============================] - 1s 293ms/step - loss: 0.3577 - accuracy: 0.8900 - val_loss: 2.2669 - val_accuracy: 0.1135\n",
            "Epoch 9/100\n",
            "4/4 [==============================] - 1s 309ms/step - loss: 0.3455 - accuracy: 0.8900 - val_loss: 2.2702 - val_accuracy: 0.1135\n",
            "Epoch 10/100\n",
            "4/4 [==============================] - 1s 413ms/step - loss: 0.3077 - accuracy: 0.9400 - val_loss: 2.2708 - val_accuracy: 0.1135\n",
            "Epoch 11/100\n",
            "4/4 [==============================] - 1s 439ms/step - loss: 0.1565 - accuracy: 0.9800 - val_loss: 2.2701 - val_accuracy: 0.1135\n",
            "Epoch 12/100\n",
            "4/4 [==============================] - 1s 315ms/step - loss: 0.2098 - accuracy: 0.9400 - val_loss: 2.2742 - val_accuracy: 0.1135\n",
            "Epoch 13/100\n",
            "4/4 [==============================] - 1s 438ms/step - loss: 0.0960 - accuracy: 0.9900 - val_loss: 2.2908 - val_accuracy: 0.1135\n",
            "Epoch 14/100\n",
            "4/4 [==============================] - 1s 327ms/step - loss: 0.0699 - accuracy: 1.0000 - val_loss: 2.3126 - val_accuracy: 0.1135\n",
            "Epoch 15/100\n",
            "4/4 [==============================] - 1s 439ms/step - loss: 0.0767 - accuracy: 0.9900 - val_loss: 2.3337 - val_accuracy: 0.1135\n",
            "Epoch 16/100\n",
            "4/4 [==============================] - 1s 310ms/step - loss: 0.0722 - accuracy: 0.9900 - val_loss: 2.3432 - val_accuracy: 0.1135\n",
            "Epoch 17/100\n",
            "4/4 [==============================] - 1s 438ms/step - loss: 0.0799 - accuracy: 0.9900 - val_loss: 2.3288 - val_accuracy: 0.1135\n",
            "Epoch 18/100\n",
            "4/4 [==============================] - 1s 438ms/step - loss: 0.1294 - accuracy: 0.9600 - val_loss: 2.3239 - val_accuracy: 0.1135\n",
            "Epoch 19/100\n",
            "4/4 [==============================] - 1s 438ms/step - loss: 0.0920 - accuracy: 0.9800 - val_loss: 2.3404 - val_accuracy: 0.1135\n",
            "Epoch 20/100\n",
            "4/4 [==============================] - 1s 439ms/step - loss: 0.0586 - accuracy: 0.9800 - val_loss: 2.3963 - val_accuracy: 0.1135\n",
            "Epoch 21/100\n",
            "4/4 [==============================] - 3s 872ms/step - loss: 0.0788 - accuracy: 0.9700 - val_loss: 2.4534 - val_accuracy: 0.1135\n",
            "Epoch 22/100\n",
            "4/4 [==============================] - 1s 316ms/step - loss: 0.0476 - accuracy: 0.9900 - val_loss: 2.5158 - val_accuracy: 0.1135\n",
            "Epoch 23/100\n",
            "4/4 [==============================] - 1s 438ms/step - loss: 0.0536 - accuracy: 0.9900 - val_loss: 2.5445 - val_accuracy: 0.1135\n",
            "Epoch 24/100\n",
            "4/4 [==============================] - 1s 437ms/step - loss: 0.0820 - accuracy: 0.9700 - val_loss: 2.5556 - val_accuracy: 0.1135\n",
            "Epoch 25/100\n",
            "4/4 [==============================] - 1s 440ms/step - loss: 0.1070 - accuracy: 0.9600 - val_loss: 2.5363 - val_accuracy: 0.1135\n",
            "Epoch 26/100\n",
            "4/4 [==============================] - 1s 438ms/step - loss: 0.0297 - accuracy: 1.0000 - val_loss: 2.5171 - val_accuracy: 0.1135\n",
            "Epoch 27/100\n",
            "4/4 [==============================] - 1s 323ms/step - loss: 0.0092 - accuracy: 1.0000 - val_loss: 2.5196 - val_accuracy: 0.1135\n",
            "Epoch 28/100\n",
            "4/4 [==============================] - 1s 438ms/step - loss: 0.0218 - accuracy: 1.0000 - val_loss: 2.5340 - val_accuracy: 0.1135\n",
            "Epoch 29/100\n",
            "4/4 [==============================] - 3s 867ms/step - loss: 0.0469 - accuracy: 0.9800 - val_loss: 2.5711 - val_accuracy: 0.1135\n",
            "Epoch 30/100\n",
            "4/4 [==============================] - 1s 330ms/step - loss: 0.0225 - accuracy: 1.0000 - val_loss: 2.6274 - val_accuracy: 0.1135\n",
            "Epoch 31/100\n",
            "4/4 [==============================] - 1s 314ms/step - loss: 0.0296 - accuracy: 1.0000 - val_loss: 2.7138 - val_accuracy: 0.1135\n",
            "Epoch 32/100\n",
            "4/4 [==============================] - 1s 438ms/step - loss: 0.0131 - accuracy: 1.0000 - val_loss: 2.8512 - val_accuracy: 0.1135\n",
            "Epoch 33/100\n",
            "4/4 [==============================] - 1s 438ms/step - loss: 0.0091 - accuracy: 1.0000 - val_loss: 2.9587 - val_accuracy: 0.1135\n",
            "Epoch 34/100\n",
            "4/4 [==============================] - 1s 317ms/step - loss: 0.0078 - accuracy: 1.0000 - val_loss: 3.0345 - val_accuracy: 0.1135\n",
            "Epoch 35/100\n",
            "4/4 [==============================] - 1s 438ms/step - loss: 0.0219 - accuracy: 1.0000 - val_loss: 3.0940 - val_accuracy: 0.1135\n",
            "Epoch 36/100\n",
            "4/4 [==============================] - 1s 438ms/step - loss: 0.0438 - accuracy: 0.9800 - val_loss: 3.1709 - val_accuracy: 0.1135\n",
            "Epoch 37/100\n",
            "4/4 [==============================] - 1s 440ms/step - loss: 0.0062 - accuracy: 1.0000 - val_loss: 3.2506 - val_accuracy: 0.1135\n",
            "Epoch 38/100\n",
            "4/4 [==============================] - 2s 500ms/step - loss: 0.0277 - accuracy: 0.9900 - val_loss: 3.3076 - val_accuracy: 0.1135\n",
            "Epoch 39/100\n",
            "4/4 [==============================] - 1s 442ms/step - loss: 0.0098 - accuracy: 1.0000 - val_loss: 3.3256 - val_accuracy: 0.1135\n",
            "Epoch 40/100\n",
            "4/4 [==============================] - 1s 314ms/step - loss: 0.0370 - accuracy: 0.9900 - val_loss: 3.2750 - val_accuracy: 0.1135\n",
            "Epoch 41/100\n",
            "4/4 [==============================] - 1s 329ms/step - loss: 0.0082 - accuracy: 1.0000 - val_loss: 3.2357 - val_accuracy: 0.1135\n",
            "Epoch 42/100\n",
            "4/4 [==============================] - 1s 439ms/step - loss: 0.0550 - accuracy: 0.9800 - val_loss: 3.2481 - val_accuracy: 0.1135\n",
            "Epoch 43/100\n",
            "4/4 [==============================] - 1s 331ms/step - loss: 0.0061 - accuracy: 1.0000 - val_loss: 3.2872 - val_accuracy: 0.1135\n",
            "Epoch 44/100\n",
            "4/4 [==============================] - 1s 314ms/step - loss: 0.0064 - accuracy: 1.0000 - val_loss: 3.3388 - val_accuracy: 0.1135\n",
            "Epoch 45/100\n",
            "4/4 [==============================] - 1s 325ms/step - loss: 0.0060 - accuracy: 1.0000 - val_loss: 3.3956 - val_accuracy: 0.1135\n",
            "Epoch 46/100\n",
            "4/4 [==============================] - 1s 324ms/step - loss: 0.0367 - accuracy: 0.9900 - val_loss: 3.4743 - val_accuracy: 0.1135\n",
            "Epoch 47/100\n",
            "4/4 [==============================] - 1s 441ms/step - loss: 0.0053 - accuracy: 1.0000 - val_loss: 3.5752 - val_accuracy: 0.1135\n",
            "Epoch 48/100\n",
            "4/4 [==============================] - 1s 437ms/step - loss: 0.0727 - accuracy: 0.9800 - val_loss: 3.5783 - val_accuracy: 0.1135\n",
            "Epoch 49/100\n",
            "4/4 [==============================] - 3s 874ms/step - loss: 0.1606 - accuracy: 0.9500 - val_loss: 3.3507 - val_accuracy: 0.1135\n",
            "Epoch 50/100\n",
            "4/4 [==============================] - 1s 444ms/step - loss: 0.0565 - accuracy: 0.9800 - val_loss: 3.1870 - val_accuracy: 0.1135\n",
            "Epoch 51/100\n",
            "4/4 [==============================] - 1s 439ms/step - loss: 0.0682 - accuracy: 0.9800 - val_loss: 3.2061 - val_accuracy: 0.1135\n",
            "Epoch 52/100\n",
            "4/4 [==============================] - 1s 441ms/step - loss: 0.0722 - accuracy: 0.9800 - val_loss: 3.3167 - val_accuracy: 0.1135\n",
            "Epoch 53/100\n",
            "4/4 [==============================] - 1s 489ms/step - loss: 0.0250 - accuracy: 0.9900 - val_loss: 3.4900 - val_accuracy: 0.1135\n",
            "Epoch 54/100\n",
            "4/4 [==============================] - 1s 439ms/step - loss: 0.0219 - accuracy: 1.0000 - val_loss: 3.5818 - val_accuracy: 0.1135\n",
            "Epoch 55/100\n",
            "4/4 [==============================] - 1s 321ms/step - loss: 0.0513 - accuracy: 0.9800 - val_loss: 3.4331 - val_accuracy: 0.1135\n",
            "Epoch 56/100\n",
            "4/4 [==============================] - 1s 319ms/step - loss: 0.0247 - accuracy: 0.9900 - val_loss: 3.3209 - val_accuracy: 0.1135\n",
            "Epoch 57/100\n",
            "4/4 [==============================] - 1s 433ms/step - loss: 0.0149 - accuracy: 1.0000 - val_loss: 3.2870 - val_accuracy: 0.1135\n",
            "Epoch 58/100\n",
            "4/4 [==============================] - 1s 469ms/step - loss: 0.0165 - accuracy: 0.9900 - val_loss: 3.3230 - val_accuracy: 0.1135\n",
            "Epoch 59/100\n",
            "4/4 [==============================] - 1s 319ms/step - loss: 0.0079 - accuracy: 1.0000 - val_loss: 3.3805 - val_accuracy: 0.1135\n",
            "Epoch 60/100\n",
            "4/4 [==============================] - 1s 438ms/step - loss: 0.0127 - accuracy: 1.0000 - val_loss: 3.4601 - val_accuracy: 0.1135\n",
            "Epoch 61/100\n",
            "4/4 [==============================] - 1s 336ms/step - loss: 0.0138 - accuracy: 1.0000 - val_loss: 3.5948 - val_accuracy: 0.1135\n",
            "Epoch 62/100\n",
            "4/4 [==============================] - 1s 438ms/step - loss: 0.0140 - accuracy: 1.0000 - val_loss: 3.7219 - val_accuracy: 0.1135\n",
            "Epoch 63/100\n",
            "4/4 [==============================] - 1s 331ms/step - loss: 0.0067 - accuracy: 1.0000 - val_loss: 3.7783 - val_accuracy: 0.1135\n",
            "Epoch 64/100\n",
            "4/4 [==============================] - 1s 438ms/step - loss: 0.0063 - accuracy: 1.0000 - val_loss: 3.7756 - val_accuracy: 0.1135\n",
            "Epoch 65/100\n",
            "4/4 [==============================] - 1s 440ms/step - loss: 0.0060 - accuracy: 1.0000 - val_loss: 3.7763 - val_accuracy: 0.1135\n",
            "Epoch 66/100\n",
            "4/4 [==============================] - 1s 329ms/step - loss: 0.0067 - accuracy: 1.0000 - val_loss: 3.8237 - val_accuracy: 0.1135\n",
            "Epoch 67/100\n",
            "4/4 [==============================] - 1s 438ms/step - loss: 0.0044 - accuracy: 1.0000 - val_loss: 3.8976 - val_accuracy: 0.1135\n",
            "Epoch 68/100\n",
            "4/4 [==============================] - 3s 874ms/step - loss: 0.0073 - accuracy: 1.0000 - val_loss: 4.0070 - val_accuracy: 0.1135\n",
            "Epoch 69/100\n",
            "4/4 [==============================] - 1s 326ms/step - loss: 0.0114 - accuracy: 1.0000 - val_loss: 4.0238 - val_accuracy: 0.1135\n",
            "Epoch 70/100\n",
            "4/4 [==============================] - 1s 438ms/step - loss: 0.0083 - accuracy: 1.0000 - val_loss: 4.0446 - val_accuracy: 0.1135\n",
            "Epoch 71/100\n",
            "4/4 [==============================] - 1s 439ms/step - loss: 0.0067 - accuracy: 1.0000 - val_loss: 4.0378 - val_accuracy: 0.1135\n",
            "Epoch 72/100\n",
            "4/4 [==============================] - 1s 439ms/step - loss: 0.0230 - accuracy: 0.9900 - val_loss: 3.9912 - val_accuracy: 0.1135\n",
            "Epoch 73/100\n",
            "4/4 [==============================] - 1s 436ms/step - loss: 0.0029 - accuracy: 1.0000 - val_loss: 3.9470 - val_accuracy: 0.1135\n",
            "Epoch 74/100\n",
            "4/4 [==============================] - 1s 295ms/step - loss: 0.0081 - accuracy: 1.0000 - val_loss: 3.8788 - val_accuracy: 0.1135\n",
            "Epoch 75/100\n",
            "4/4 [==============================] - 1s 292ms/step - loss: 0.0035 - accuracy: 1.0000 - val_loss: 3.8168 - val_accuracy: 0.1135\n",
            "Epoch 76/100\n",
            "4/4 [==============================] - 1s 437ms/step - loss: 0.0022 - accuracy: 1.0000 - val_loss: 3.7487 - val_accuracy: 0.1135\n",
            "Epoch 77/100\n",
            "4/4 [==============================] - 3s 871ms/step - loss: 0.0030 - accuracy: 1.0000 - val_loss: 3.6915 - val_accuracy: 0.1135\n",
            "Epoch 78/100\n",
            "4/4 [==============================] - 1s 437ms/step - loss: 0.0021 - accuracy: 1.0000 - val_loss: 3.6407 - val_accuracy: 0.1135\n",
            "Epoch 79/100\n",
            "4/4 [==============================] - 1s 436ms/step - loss: 0.0112 - accuracy: 1.0000 - val_loss: 3.4840 - val_accuracy: 0.1135\n",
            "Epoch 80/100\n",
            "4/4 [==============================] - 1s 436ms/step - loss: 0.0040 - accuracy: 1.0000 - val_loss: 3.3752 - val_accuracy: 0.1135\n",
            "Epoch 81/100\n",
            "4/4 [==============================] - 1s 439ms/step - loss: 0.0066 - accuracy: 1.0000 - val_loss: 3.3308 - val_accuracy: 0.1135\n",
            "Epoch 82/100\n",
            "4/4 [==============================] - 1s 437ms/step - loss: 7.9431e-04 - accuracy: 1.0000 - val_loss: 3.3057 - val_accuracy: 0.1136\n",
            "Epoch 83/100\n",
            "4/4 [==============================] - 1s 288ms/step - loss: 0.0088 - accuracy: 1.0000 - val_loss: 3.3302 - val_accuracy: 0.1139\n",
            "Epoch 84/100\n",
            "4/4 [==============================] - 1s 436ms/step - loss: 0.0026 - accuracy: 1.0000 - val_loss: 3.3401 - val_accuracy: 0.1144\n",
            "Epoch 85/100\n",
            "4/4 [==============================] - 1s 418ms/step - loss: 0.0037 - accuracy: 1.0000 - val_loss: 3.3358 - val_accuracy: 0.1150\n",
            "Epoch 86/100\n",
            "4/4 [==============================] - 1s 399ms/step - loss: 0.0072 - accuracy: 1.0000 - val_loss: 3.3237 - val_accuracy: 0.1156\n",
            "Epoch 87/100\n",
            "4/4 [==============================] - 1s 437ms/step - loss: 0.0070 - accuracy: 1.0000 - val_loss: 3.3545 - val_accuracy: 0.1170\n",
            "Epoch 88/100\n",
            "4/4 [==============================] - 1s 437ms/step - loss: 0.0025 - accuracy: 1.0000 - val_loss: 3.4315 - val_accuracy: 0.1184\n",
            "Epoch 89/100\n",
            "4/4 [==============================] - 1s 291ms/step - loss: 0.0052 - accuracy: 1.0000 - val_loss: 3.4541 - val_accuracy: 0.1221\n",
            "Epoch 90/100\n",
            "4/4 [==============================] - 1s 285ms/step - loss: 0.0191 - accuracy: 0.9900 - val_loss: 3.5411 - val_accuracy: 0.1219\n",
            "Epoch 91/100\n",
            "4/4 [==============================] - 1s 438ms/step - loss: 0.0104 - accuracy: 1.0000 - val_loss: 3.5683 - val_accuracy: 0.1238\n",
            "Epoch 92/100\n",
            "4/4 [==============================] - 1s 287ms/step - loss: 0.0053 - accuracy: 1.0000 - val_loss: 3.5978 - val_accuracy: 0.1250\n",
            "Epoch 93/100\n",
            "4/4 [==============================] - 1s 287ms/step - loss: 0.0038 - accuracy: 1.0000 - val_loss: 3.5966 - val_accuracy: 0.1250\n",
            "Epoch 94/100\n",
            "4/4 [==============================] - 1s 286ms/step - loss: 0.0099 - accuracy: 1.0000 - val_loss: 3.4723 - val_accuracy: 0.1287\n",
            "Epoch 95/100\n",
            "4/4 [==============================] - 1s 436ms/step - loss: 0.0207 - accuracy: 0.9900 - val_loss: 3.4461 - val_accuracy: 0.1329\n",
            "Epoch 96/100\n",
            "4/4 [==============================] - 1s 433ms/step - loss: 0.0047 - accuracy: 1.0000 - val_loss: 3.3107 - val_accuracy: 0.1589\n",
            "Epoch 97/100\n",
            "4/4 [==============================] - 1s 451ms/step - loss: 0.0136 - accuracy: 1.0000 - val_loss: 3.2290 - val_accuracy: 0.1846\n",
            "Epoch 98/100\n",
            "4/4 [==============================] - 1s 296ms/step - loss: 0.0019 - accuracy: 1.0000 - val_loss: 3.1357 - val_accuracy: 0.2044\n",
            "Epoch 99/100\n",
            "4/4 [==============================] - 1s 305ms/step - loss: 0.0138 - accuracy: 1.0000 - val_loss: 3.0917 - val_accuracy: 0.2159\n",
            "Epoch 100/100\n",
            "4/4 [==============================] - 1s 439ms/step - loss: 0.0025 - accuracy: 1.0000 - val_loss: 3.0266 - val_accuracy: 0.2217\n"
          ]
        }
      ]
    },
    {
      "cell_type": "markdown",
      "metadata": {
        "id": "tNpK1kvDUgyr"
      },
      "source": [
        "### best accuracy"
      ]
    },
    {
      "cell_type": "code",
      "metadata": {
        "id": "SOCGahl1Ugys",
        "colab": {
          "base_uri": "https://localhost:8080/"
        },
        "outputId": "91d6d6a1-73e3-4604-dc8c-02ac5ad9119e"
      },
      "source": [
        "#test_model = load_model(\"/content/baseline_best.h5\")\n",
        "test_loss, test_acc = model.evaluate(test_images, test_labels)\n",
        "test_acc"
      ],
      "execution_count": 9,
      "outputs": [
        {
          "output_type": "stream",
          "name": "stdout",
          "text": [
            "313/313 [==============================] - 1s 3ms/step - loss: 3.0266 - accuracy: 0.2217\n"
          ]
        },
        {
          "output_type": "execute_result",
          "data": {
            "text/plain": [
              "0.22169999778270721"
            ]
          },
          "metadata": {},
          "execution_count": 9
        }
      ]
    },
    {
      "cell_type": "code",
      "metadata": {
        "id": "76bh5IpDUgyt",
        "colab": {
          "base_uri": "https://localhost:8080/",
          "height": 573
        },
        "outputId": "f7d9f3ba-7bb7-4946-9073-64b80528b24f"
      },
      "source": [
        "plt.plot(history.history['accuracy'])\n",
        "plt.plot(history.history['val_accuracy']) #val_accuracy #val_acc\n",
        "plt.title('model accuracy')\n",
        "plt.ylabel('accuracy')\n",
        "plt.xlabel('epoch')\n",
        "plt.legend(['train', 'test'], loc='upper left')\n",
        "plt.show()\n",
        "plt.plot(history.history['loss'])\n",
        "plt.plot(history.history['val_loss'])\n",
        "plt.title('model loss')\n",
        "plt.ylabel('loss')\n",
        "plt.xlabel('epoch')\n",
        "plt.legend(['train', 'test'], loc='upper left')\n",
        "plt.show()"
      ],
      "execution_count": 10,
      "outputs": [
        {
          "output_type": "display_data",
          "data": {
            "text/plain": [
              "<Figure size 432x288 with 1 Axes>"
            ],
            "image/png": "[encoded data removed]"
          },
          "metadata": {
            "needs_background": "light"
          }
        },
        {
          "output_type": "display_data",
          "data": {
            "text/plain": [
              "<Figure size 432x288 with 1 Axes>"
            ],
            "image/png": "[encoded data removed]"
          },
          "metadata": {
            "needs_background": "light"
          }
        }
      ]
    },
    {
      "cell_type": "code",
      "metadata": {
        "id": "jA9CKn4R_fWN"
      },
      "source": [],
      "execution_count": 10,
      "outputs": []
    },
    {
      "cell_type": "markdown",
      "metadata": {
        "id": "MNX_m7knzHoU"
      },
      "source": [
        "# With RandAug"
      ]
    },
    {
      "cell_type": "code",
      "source": [
        "!pip install imgaug -U"
      ],
      "metadata": {
        "id": "gbAZsJAU1mw8",
        "colab": {
          "base_uri": "https://localhost:8080/"
        },
        "outputId": "9a41daed-dcdb-4d09-9e65-17187f5e4943"
      },
      "execution_count": 11,
      "outputs": [
        {
          "output_type": "stream",
          "name": "stdout",
          "text": [
            "Looking in indexes: https://pypi.org/simple, https://us-python.pkg.dev/colab-wheels/public/simple/\n",
            "Requirement already satisfied: imgaug in /usr/local/lib/python3.9/dist-packages (0.4.0)\n",
            "Requirement already satisfied: Shapely in /usr/local/lib/python3.9/dist-packages (from imgaug) (2.0.1)\n",
            "Requirement already satisfied: opencv-python in /usr/local/lib/python3.9/dist-packages (from imgaug) (4.7.0.72)\n",
            "Requirement already satisfied: imageio in /usr/local/lib/python3.9/dist-packages (from imgaug) (2.25.1)\n",
            "Requirement already satisfied: six in /usr/local/lib/python3.9/dist-packages (from imgaug) (1.16.0)\n",
            "Requirement already satisfied: scipy in /usr/local/lib/python3.9/dist-packages (from imgaug) (1.10.1)\n",
            "Requirement already satisfied: scikit-image>=0.14.2 in /usr/local/lib/python3.9/dist-packages (from imgaug) (0.19.3)\n",
            "Requirement already satisfied: matplotlib in /usr/local/lib/python3.9/dist-packages (from imgaug) (3.7.1)\n",
            "Requirement already satisfied: Pillow in /usr/local/lib/python3.9/dist-packages (from imgaug) (8.4.0)\n",
            "Requirement already satisfied: numpy>=1.15 in /usr/local/lib/python3.9/dist-packages (from imgaug) (1.22.4)\n",
            "Requirement already satisfied: packaging>=20.0 in /usr/local/lib/python3.9/dist-packages (from scikit-image>=0.14.2->imgaug) (23.0)\n",
            "Requirement already satisfied: PyWavelets>=1.1.1 in /usr/local/lib/python3.9/dist-packages (from scikit-image>=0.14.2->imgaug) (1.4.1)\n",
            "Requirement already satisfied: tifffile>=2019.7.26 in /usr/local/lib/python3.9/dist-packages (from scikit-image>=0.14.2->imgaug) (2023.3.21)\n",
            "Requirement already satisfied: networkx>=2.2 in /usr/local/lib/python3.9/dist-packages (from scikit-image>=0.14.2->imgaug) (3.0)\n",
            "Requirement already satisfied: contourpy>=1.0.1 in /usr/local/lib/python3.9/dist-packages (from matplotlib->imgaug) (1.0.7)\n",
            "Requirement already satisfied: python-dateutil>=2.7 in /usr/local/lib/python3.9/dist-packages (from matplotlib->imgaug) (2.8.2)\n",
            "Requirement already satisfied: cycler>=0.10 in /usr/local/lib/python3.9/dist-packages (from matplotlib->imgaug) (0.11.0)\n",
            "Requirement already satisfied: pyparsing>=2.3.1 in /usr/local/lib/python3.9/dist-packages (from matplotlib->imgaug) (3.0.9)\n",
            "Requirement already satisfied: fonttools>=4.22.0 in /usr/local/lib/python3.9/dist-packages (from matplotlib->imgaug) (4.39.2)\n",
            "Requirement already satisfied: importlib-resources>=3.2.0 in /usr/local/lib/python3.9/dist-packages (from matplotlib->imgaug) (5.12.0)\n",
            "Requirement already satisfied: kiwisolver>=1.0.1 in /usr/local/lib/python3.9/dist-packages (from matplotlib->imgaug) (1.4.4)\n",
            "Requirement already satisfied: zipp>=3.1.0 in /usr/local/lib/python3.9/dist-packages (from importlib-resources>=3.2.0->matplotlib->imgaug) (3.15.0)\n"
          ]
        }
      ]
    },
    {
      "cell_type": "code",
      "source": [
        "from imgaug import augmenters as iaa"
      ],
      "metadata": {
        "id": "-uNcEUW31pV7"
      },
      "execution_count": 12,
      "outputs": []
    },
    {
      "cell_type": "code",
      "source": [
        "#L'entraînement de l'ensemble des données n'est pas suffisant en mémoire, alors on define un générateur\n",
        "\n",
        "class generator(Sequence):\n",
        "    #Appliquer RandAug\n",
        "    def aug(self,x):\n",
        "        \n",
        "        seq = iaa.Sequential([\n",
        "            iaa.RandAugment(n=3, m=7),\n",
        "            iaa.Resize({\"height\": 28, \"width\": 28})\n",
        "            ])\n",
        "        x=seq.augment_images(x)\n",
        "        #Normalisation, le modèle de pré-entraînement dans keras.applications consiste à normaliser les données à [-1,1],\n",
        "        # et le modèle de pré-entraînement dans TF hub est de normaliser les données à [0,1]\n",
        "        x=x.astype('float32')/255\n",
        "        return x\n",
        "\n",
        "    def __init__(self, x_set, y_set, batch_size):\n",
        "        self.x_set , self.y_set = x_set, y_set\n",
        "        self.batch_size = batch_size\n",
        "\n",
        "    def __len__(self):\n",
        "        return int(np.ceil(len(self.x_set) / float(self.batch_size)))\n",
        "\n",
        "    def __getitem__(self, idx):\n",
        "        batch_x1 = self.x_set[idx * self.batch_size:(idx + 1) * self.batch_size]\n",
        "        batch_y1 = self.y_set[idx * self.batch_size:(idx + 1) * self.batch_size]\n",
        "        batch_x1=self.aug(batch_x1)\n",
        "\n",
        "        return batch_x1,batch_y1\n",
        "  \n",
        "    #Cette fonction sera automatiquement exécutée à la fin de chaque époque pendant l'entraînement\n",
        "    def on_epoch_end(self):\n",
        "        print(\"fin d'époque\")"
      ],
      "metadata": {
        "id": "yX3niXOMzrgh"
      },
      "execution_count": 13,
      "outputs": []
    },
    {
      "cell_type": "code",
      "source": [
        "(x_train, y_train), (x_test, y_test) = mnist.load_data()\n",
        "x_train = x_train[:100]\n",
        "y_train = y_train[:100]\n",
        "\n",
        "#mnist doit être converti en une image à 3 canaux\n",
        "x_train=np.stack((x_train,)*3, axis=-1)\n",
        "x_test=np.stack((x_test,)*3, axis=-1)\n",
        "\n",
        "#Un encodage \n",
        "y_train=to_categorical(y_train,10)\n",
        "y_test=to_categorical(y_test,10)\n"
      ],
      "metadata": {
        "id": "Dqykou4Azoba"
      },
      "execution_count": 14,
      "outputs": []
    },
    {
      "cell_type": "code",
      "metadata": {
        "id": "qydQZGLzzHoV"
      },
      "source": [
        "model = models.Sequential()\n",
        "model.add(Conv2D(32, (3, 3), input_shape=(28,28,3)))\n",
        "model.add(Activation('relu'))\n",
        "model.add(BatchNormalization(axis=-1))\n",
        "\n",
        "model.add(Conv2D(32, (3, 3)))\n",
        "model.add(Activation('relu'))\n",
        "model.add(MaxPooling2D(pool_size=(2,2)))\n",
        "\n",
        "model.add(BatchNormalization(axis=-1))\n",
        "model.add(Conv2D(64,(3, 3)))\n",
        "model.add(Activation('relu'))\n",
        "model.add(BatchNormalization(axis=-1))\n",
        "model.add(Conv2D(64, (3, 3)))\n",
        "model.add(Activation('relu'))\n",
        "model.add(MaxPooling2D(pool_size=(2,2)))\n",
        "\n",
        "model.add(Flatten())\n",
        "model.add(Dense(256, activation = \"relu\"))\n",
        "model.add(Dropout(0.5))\n",
        "model.add(Dense(10, activation = \"softmax\"))\n",
        "\n",
        "mcp = ModelCheckpoint(\"/content/weights-hub.hdf5\", monitor='val_accuracy', verbose=0, save_best_only=True, mode='auto')\n",
        "\n",
        "model.compile(loss='categorical_crossentropy', optimizer = \"adam\", metrics = [\"accuracy\"])"
      ],
      "execution_count": 15,
      "outputs": []
    },
    {
      "cell_type": "code",
      "metadata": {
        "id": "WtyLUUSlzHoW"
      },
      "source": [
        "batchsize=32\n",
        "g = generator(x_train , y_train , batchsize)"
      ],
      "execution_count": 16,
      "outputs": []
    },
    {
      "cell_type": "code",
      "metadata": {
        "id": "k4uHx6JOzHoW",
        "colab": {
          "base_uri": "https://localhost:8080/"
        },
        "outputId": "2517a15d-d8e4-45a7-e6ca-73880722a12f"
      },
      "source": [
        "history2 =model.fit_generator(g, \n",
        "                    steps_per_epoch=int(x_train.shape[0]/batchsize),\n",
        "                    epochs= EPOCHES, \n",
        "                    # verbose=1, \n",
        "                    callbacks=[mcp], \n",
        "                    validation_data=(x_test, y_test), \n",
        "                    # validation_steps=None, \n",
        "                    # class_weight=None, \n",
        "                    max_queue_size=10, \n",
        "                    workers=2, \n",
        "                    use_multiprocessing=False, \n",
        "                    shuffle=True\n",
        "                    #initial_epoch=0\n",
        "                    )\n"
      ],
      "execution_count": 17,
      "outputs": [
        {
          "output_type": "stream",
          "name": "stderr",
          "text": [
            "<ipython-input-17-68ee4d94cc99>:1: UserWarning: `Model.fit_generator` is deprecated and will be removed in a future version. Please use `Model.fit`, which supports generators.\n",
            "  history2 =model.fit_generator(g,\n"
          ]
        },
        {
          "output_type": "stream",
          "name": "stdout",
          "text": [
            "Epoch 1/100\n",
            "3/3 [==============================] - ETA: 0s - loss: 3.9220 - accuracy: 0.1324fin d'époque\n",
            "3/3 [==============================] - 7s 2s/step - loss: 3.9220 - accuracy: 0.1324 - val_loss: 19.3612 - val_accuracy: 0.1880\n",
            "fin d'époque\n",
            "Epoch 2/100\n",
            "3/3 [==============================] - ETA: 0s - loss: 3.0956 - accuracy: 0.1042fin d'époque\n",
            "3/3 [==============================] - 2s 1s/step - loss: 3.0956 - accuracy: 0.1042 - val_loss: 16.7737 - val_accuracy: 0.2341\n",
            "fin d'époque\n",
            "Epoch 3/100\n",
            "2/3 [===================>..........] - ETA: 0s - loss: 2.5439 - accuracy: 0.2778fin d'époque\n",
            "3/3 [==============================] - 2s 1s/step - loss: 2.6598 - accuracy: 0.2206 - val_loss: 27.9131 - val_accuracy: 0.1869\n",
            "fin d'époque\n",
            "Epoch 4/100\n",
            "3/3 [==============================] - ETA: 0s - loss: 2.2985 - accuracy: 0.2794fin d'époque\n",
            "3/3 [==============================] - 2s 953ms/step - loss: 2.2985 - accuracy: 0.2794 - val_loss: 28.6611 - val_accuracy: 0.1765\n",
            "fin d'époque\n",
            "Epoch 5/100\n",
            "3/3 [==============================] - ETA: 0s - loss: 2.5891 - accuracy: 0.2941fin d'époque\n",
            "3/3 [==============================] - 3s 1s/step - loss: 2.5891 - accuracy: 0.2941 - val_loss: 32.5489 - val_accuracy: 0.1174\n",
            "fin d'époque\n",
            "Epoch 6/100\n",
            "3/3 [==============================] - ETA: 0s - loss: 2.4654 - accuracy: 0.2917fin d'époque\n",
            "3/3 [==============================] - 1s 597ms/step - loss: 2.4654 - accuracy: 0.2917 - val_loss: 26.8631 - val_accuracy: 0.1421\n",
            "fin d'époque\n",
            "Epoch 7/100\n",
            "1/3 [=========>....................] - ETA: 0s - loss: 2.1565 - accuracy: 0.3438fin d'époque\n",
            "3/3 [==============================] - 1s 673ms/step - loss: 2.4270 - accuracy: 0.2206 - val_loss: 21.9275 - val_accuracy: 0.2086\n",
            "fin d'époque\n",
            "Epoch 8/100\n",
            "1/3 [=========>....................] - ETA: 0s - loss: 2.3010 - accuracy: 0.2188fin d'époque\n",
            "3/3 [==============================] - 1s 607ms/step - loss: 2.2225 - accuracy: 0.2794 - val_loss: 19.2874 - val_accuracy: 0.2411\n",
            "fin d'époque\n",
            "Epoch 9/100\n",
            "3/3 [==============================] - ETA: 0s - loss: 2.0892 - accuracy: 0.2917fin d'époque\n",
            "3/3 [==============================] - 3s 1s/step - loss: 2.0892 - accuracy: 0.2917 - val_loss: 19.7003 - val_accuracy: 0.2410\n",
            "fin d'époque\n",
            "Epoch 10/100\n",
            "1/3 [=========>....................] - ETA: 0s - loss: 2.2339 - accuracy: 0.2188fin d'époque\n",
            "3/3 [==============================] - 1s 588ms/step - loss: 1.9697 - accuracy: 0.3125 - val_loss: 19.4104 - val_accuracy: 0.2707\n",
            "fin d'époque\n",
            "Epoch 11/100\n",
            "1/3 [=========>....................] - ETA: 0s - loss: 1.8178 - accuracy: 0.4688fin d'époque\n",
            "3/3 [==============================] - 1s 594ms/step - loss: 1.9289 - accuracy: 0.3824 - val_loss: 20.7636 - val_accuracy: 0.2721\n",
            "fin d'époque\n",
            "Epoch 12/100\n",
            "3/3 [==============================] - ETA: 0s - loss: 1.9370 - accuracy: 0.2708fin d'époque\n",
            "3/3 [==============================] - 1s 597ms/step - loss: 1.9370 - accuracy: 0.2708 - val_loss: 22.7620 - val_accuracy: 0.2357\n",
            "fin d'époque\n",
            "Epoch 13/100\n",
            "3/3 [==============================] - ETA: 0s - loss: 1.7156 - accuracy: 0.3646fin d'époque\n",
            "3/3 [==============================] - 1s 545ms/step - loss: 1.7156 - accuracy: 0.3646 - val_loss: 24.0178 - val_accuracy: 0.2280\n",
            "fin d'époque\n",
            "Epoch 14/100\n",
            "1/3 [=========>....................] - ETA: 0s - loss: 2.0580 - accuracy: 0.2188fin d'époque\n",
            "3/3 [==============================] - 1s 585ms/step - loss: 1.7838 - accuracy: 0.3235 - val_loss: 27.8175 - val_accuracy: 0.2071\n",
            "fin d'époque\n",
            "Epoch 15/100\n",
            "1/3 [=========>....................] - ETA: 0s - loss: 1.7539 - accuracy: 0.3438fin d'époque\n",
            "3/3 [==============================] - 1s 603ms/step - loss: 1.7094 - accuracy: 0.3824 - val_loss: 27.2045 - val_accuracy: 0.2171\n",
            "fin d'époque\n",
            "Epoch 16/100\n",
            "1/3 [=========>....................] - ETA: 0s - loss: 1.6147 - accuracy: 0.4688fin d'époque\n",
            "3/3 [==============================] - 3s 1s/step - loss: 1.6294 - accuracy: 0.4559 - val_loss: 26.1276 - val_accuracy: 0.2309\n",
            "fin d'époque\n",
            "Epoch 17/100\n",
            "1/3 [=========>....................] - ETA: 0s - loss: 1.8831 - accuracy: 0.3438fin d'époque\n",
            "3/3 [==============================] - 1s 574ms/step - loss: 1.6120 - accuracy: 0.5000 - val_loss: 27.8230 - val_accuracy: 0.2453\n",
            "fin d'époque\n",
            "Epoch 18/100\n",
            "1/3 [=========>....................] - ETA: 0s - loss: 1.6607 - accuracy: 0.4062fin d'époque\n",
            "3/3 [==============================] - 1s 605ms/step - loss: 1.7763 - accuracy: 0.3971 - val_loss: 29.3952 - val_accuracy: 0.2683\n",
            "fin d'époque\n",
            "Epoch 19/100\n",
            "1/3 [=========>....................] - ETA: 0s - loss: 1.6155 - accuracy: 0.4062fin d'époque\n",
            "3/3 [==============================] - 1s 621ms/step - loss: 1.6936 - accuracy: 0.4412 - val_loss: 27.4584 - val_accuracy: 0.3195\n",
            "fin d'époque\n",
            "Epoch 20/100\n",
            "1/3 [=========>....................] - ETA: 0s - loss: 1.3686 - accuracy: 0.5938fin d'époque\n",
            "3/3 [==============================] - 2s 711ms/step - loss: 1.3912 - accuracy: 0.5735 - val_loss: 22.7505 - val_accuracy: 0.3860\n",
            "fin d'époque\n",
            "Epoch 21/100\n",
            "2/3 [===================>..........] - ETA: 0s - loss: 1.2077 - accuracy: 0.5278fin d'époque\n",
            "3/3 [==============================] - 1s 649ms/step - loss: 1.5271 - accuracy: 0.4706 - val_loss: 19.9916 - val_accuracy: 0.4442\n",
            "fin d'époque\n",
            "Epoch 22/100\n",
            "3/3 [==============================] - ETA: 0s - loss: 1.4323 - accuracy: 0.5417fin d'époque\n",
            "3/3 [==============================] - 2s 791ms/step - loss: 1.4323 - accuracy: 0.5417 - val_loss: 17.7471 - val_accuracy: 0.4508\n",
            "fin d'époque\n",
            "Epoch 23/100\n",
            "3/3 [==============================] - ETA: 0s - loss: 1.4698 - accuracy: 0.4896fin d'époque\n",
            "3/3 [==============================] - 1s 594ms/step - loss: 1.4698 - accuracy: 0.4896 - val_loss: 19.8498 - val_accuracy: 0.4238\n",
            "fin d'époque\n",
            "Epoch 24/100\n",
            "3/3 [==============================] - ETA: 0s - loss: 1.6043 - accuracy: 0.5147fin d'époque\n",
            "3/3 [==============================] - 1s 687ms/step - loss: 1.6043 - accuracy: 0.5147 - val_loss: 18.9788 - val_accuracy: 0.4402\n",
            "fin d'époque\n",
            "Epoch 25/100\n",
            "3/3 [==============================] - ETA: 0s - loss: 1.3055 - accuracy: 0.5588fin d'époque\n",
            "3/3 [==============================] - 2s 771ms/step - loss: 1.3055 - accuracy: 0.5588 - val_loss: 14.0031 - val_accuracy: 0.5146\n",
            "fin d'époque\n",
            "Epoch 26/100\n",
            "1/3 [=========>....................] - ETA: 0s - loss: 1.0831 - accuracy: 0.6250fin d'époque\n",
            "3/3 [==============================] - 2s 735ms/step - loss: 1.2661 - accuracy: 0.6146 - val_loss: 12.0205 - val_accuracy: 0.5230\n",
            "fin d'époque\n",
            "Epoch 27/100\n",
            "1/3 [=========>....................] - ETA: 0s - loss: 1.2754 - accuracy: 0.5938fin d'époque\n",
            "3/3 [==============================] - 1s 676ms/step - loss: 1.4371 - accuracy: 0.5208 - val_loss: 12.8396 - val_accuracy: 0.4831\n",
            "fin d'époque\n",
            "Epoch 28/100\n",
            "3/3 [==============================] - ETA: 0s - loss: 1.3661 - accuracy: 0.5312fin d'époque\n",
            "3/3 [==============================] - 1s 585ms/step - loss: 1.3661 - accuracy: 0.5312 - val_loss: 15.6157 - val_accuracy: 0.4284\n",
            "fin d'époque\n",
            "Epoch 29/100\n",
            "1/3 [=========>....................] - ETA: 0s - loss: 1.3059 - accuracy: 0.5000fin d'époque\n",
            "3/3 [==============================] - 1s 578ms/step - loss: 1.1793 - accuracy: 0.5588 - val_loss: 19.3250 - val_accuracy: 0.3852\n",
            "fin d'époque\n",
            "Epoch 30/100\n",
            "3/3 [==============================] - ETA: 0s - loss: 1.2766 - accuracy: 0.5729fin d'époque\n",
            "3/3 [==============================] - 1s 566ms/step - loss: 1.2766 - accuracy: 0.5729 - val_loss: 24.5123 - val_accuracy: 0.3418\n",
            "fin d'époque\n",
            "Epoch 31/100\n",
            "1/3 [=========>....................] - ETA: 0s - loss: 1.2140 - accuracy: 0.5625fin d'époque\n",
            "3/3 [==============================] - 1s 565ms/step - loss: 1.2678 - accuracy: 0.5294 - val_loss: 25.7102 - val_accuracy: 0.3480\n",
            "fin d'époque\n",
            "Epoch 32/100\n",
            "1/3 [=========>....................] - ETA: 0s - loss: 1.4400 - accuracy: 0.5000fin d'époque\n",
            "3/3 [==============================] - 2s 709ms/step - loss: 1.3875 - accuracy: 0.5882 - val_loss: 21.2834 - val_accuracy: 0.4317\n",
            "fin d'époque\n",
            "Epoch 33/100\n",
            "3/3 [==============================] - ETA: 0s - loss: 1.3628 - accuracy: 0.6029fin d'époque\n",
            "3/3 [==============================] - 2s 781ms/step - loss: 1.3628 - accuracy: 0.6029 - val_loss: 17.7049 - val_accuracy: 0.5088\n",
            "fin d'époque\n",
            "Epoch 34/100\n",
            "3/3 [==============================] - ETA: 0s - loss: 1.3722 - accuracy: 0.5104fin d'époque\n",
            "3/3 [==============================] - 1s 571ms/step - loss: 1.3722 - accuracy: 0.5104 - val_loss: 20.2744 - val_accuracy: 0.5109\n",
            "fin d'époque\n",
            "Epoch 35/100\n",
            "2/3 [===================>..........] - ETA: 0s - loss: 1.1076 - accuracy: 0.6667fin d'époque\n",
            "3/3 [==============================] - 1s 712ms/step - loss: 1.4015 - accuracy: 0.5441 - val_loss: 23.1324 - val_accuracy: 0.4573\n",
            "fin d'époque\n",
            "Epoch 36/100\n",
            "2/3 [===================>..........] - ETA: 0s - loss: 1.1568 - accuracy: 0.6111fin d'époque\n",
            "3/3 [==============================] - 1s 589ms/step - loss: 1.1381 - accuracy: 0.6324 - val_loss: 27.4720 - val_accuracy: 0.4103\n",
            "fin d'époque\n",
            "Epoch 37/100\n",
            "1/3 [=========>....................] - ETA: 0s - loss: 1.3065 - accuracy: 0.5000fin d'époque\n",
            "3/3 [==============================] - 1s 678ms/step - loss: 1.2601 - accuracy: 0.5147 - val_loss: 30.8560 - val_accuracy: 0.3702\n",
            "fin d'époque\n",
            "Epoch 38/100\n",
            "1/3 [=========>....................] - ETA: 0s - loss: 0.9014 - accuracy: 0.6562fin d'époque\n",
            "3/3 [==============================] - 1s 674ms/step - loss: 1.1685 - accuracy: 0.5521 - val_loss: 27.5936 - val_accuracy: 0.4226\n",
            "fin d'époque\n",
            "Epoch 39/100\n",
            "3/3 [==============================] - ETA: 0s - loss: 1.0655 - accuracy: 0.6618fin d'époque\n",
            "3/3 [==============================] - 1s 690ms/step - loss: 1.0655 - accuracy: 0.6618 - val_loss: 22.7534 - val_accuracy: 0.5087\n",
            "fin d'époque\n",
            "Epoch 40/100\n",
            "1/3 [=========>....................] - ETA: 0s - loss: 1.3172 - accuracy: 0.5312fin d'époque\n",
            "3/3 [==============================] - 1s 615ms/step - loss: 1.2276 - accuracy: 0.5735 - val_loss: 19.7442 - val_accuracy: 0.5623\n",
            "fin d'époque\n",
            "Epoch 41/100\n",
            "2/3 [===================>..........] - ETA: 0s - loss: 1.0779 - accuracy: 0.6389fin d'époque\n",
            "3/3 [==============================] - 1s 587ms/step - loss: 1.0594 - accuracy: 0.6176 - val_loss: 20.8572 - val_accuracy: 0.5295\n",
            "fin d'époque\n",
            "Epoch 42/100\n",
            "1/3 [=========>....................] - ETA: 0s - loss: 1.4428 - accuracy: 0.5000fin d'époque\n",
            "3/3 [==============================] - 1s 561ms/step - loss: 1.2070 - accuracy: 0.6029 - val_loss: 21.6408 - val_accuracy: 0.5201\n",
            "fin d'époque\n",
            "Epoch 43/100\n",
            "3/3 [==============================] - ETA: 0s - loss: 1.2791 - accuracy: 0.5000fin d'époque\n",
            "3/3 [==============================] - 2s 700ms/step - loss: 1.2791 - accuracy: 0.5000 - val_loss: 18.6100 - val_accuracy: 0.5541\n",
            "fin d'époque\n",
            "Epoch 44/100\n",
            "1/3 [=========>....................] - ETA: 0s - loss: 1.1639 - accuracy: 0.6562fin d'époque\n",
            "3/3 [==============================] - 3s 1s/step - loss: 1.2687 - accuracy: 0.6176 - val_loss: 15.7670 - val_accuracy: 0.6018\n",
            "fin d'époque\n",
            "Epoch 45/100\n",
            "3/3 [==============================] - ETA: 0s - loss: 1.0328 - accuracy: 0.6354fin d'époque\n",
            "3/3 [==============================] - 2s 819ms/step - loss: 1.0328 - accuracy: 0.6354 - val_loss: 16.3934 - val_accuracy: 0.6202\n",
            "fin d'époque\n",
            "Epoch 46/100\n",
            "3/3 [==============================] - ETA: 0s - loss: 1.1598 - accuracy: 0.5833fin d'époque\n",
            "3/3 [==============================] - 1s 584ms/step - loss: 1.1598 - accuracy: 0.5833 - val_loss: 17.7610 - val_accuracy: 0.5994\n",
            "fin d'époque\n",
            "Epoch 47/100\n",
            "1/3 [=========>....................] - ETA: 0s - loss: 1.1962 - accuracy: 0.5938fin d'époque\n",
            "3/3 [==============================] - 1s 555ms/step - loss: 1.1097 - accuracy: 0.6354 - val_loss: 20.3359 - val_accuracy: 0.5617\n",
            "fin d'époque\n",
            "Epoch 48/100\n",
            "3/3 [==============================] - ETA: 0s - loss: 1.0747 - accuracy: 0.6458fin d'époque\n",
            "3/3 [==============================] - 1s 569ms/step - loss: 1.0747 - accuracy: 0.6458 - val_loss: 28.2916 - val_accuracy: 0.4925\n",
            "fin d'époque\n",
            "Epoch 49/100\n",
            "3/3 [==============================] - ETA: 0s - loss: 1.0349 - accuracy: 0.6354fin d'époque\n",
            "3/3 [==============================] - 1s 621ms/step - loss: 1.0349 - accuracy: 0.6354 - val_loss: 30.9695 - val_accuracy: 0.4883\n",
            "fin d'époque\n",
            "Epoch 50/100\n",
            "1/3 [=========>....................] - ETA: 0s - loss: 1.1958 - accuracy: 0.5312fin d'époque\n",
            "3/3 [==============================] - 1s 672ms/step - loss: 1.1402 - accuracy: 0.6029 - val_loss: 21.1262 - val_accuracy: 0.5825\n",
            "fin d'époque\n",
            "Epoch 51/100\n",
            "1/3 [=========>....................] - ETA: 0s - loss: 0.6033 - accuracy: 0.8125fin d'époque\n",
            "3/3 [==============================] - 1s 592ms/step - loss: 0.7495 - accuracy: 0.7647 - val_loss: 16.2894 - val_accuracy: 0.6524\n",
            "fin d'époque\n",
            "Epoch 52/100\n",
            "1/3 [=========>....................] - ETA: 0s - loss: 1.0693 - accuracy: 0.6562fin d'époque\n",
            "3/3 [==============================] - 2s 710ms/step - loss: 0.9273 - accuracy: 0.6912 - val_loss: 15.3934 - val_accuracy: 0.6711\n",
            "fin d'époque\n",
            "Epoch 53/100\n",
            "2/3 [===================>..........] - ETA: 0s - loss: 0.9777 - accuracy: 0.6389fin d'époque\n",
            "3/3 [==============================] - 1s 608ms/step - loss: 0.8200 - accuracy: 0.7059 - val_loss: 16.6740 - val_accuracy: 0.6574\n",
            "fin d'époque\n",
            "Epoch 54/100\n",
            "3/3 [==============================] - ETA: 0s - loss: 1.1024 - accuracy: 0.6146fin d'époque\n",
            "3/3 [==============================] - 2s 836ms/step - loss: 1.1024 - accuracy: 0.6146 - val_loss: 18.2323 - val_accuracy: 0.6329\n",
            "fin d'époque\n",
            "Epoch 55/100\n",
            "2/3 [===================>..........] - ETA: 0s - loss: 0.8815 - accuracy: 0.6667fin d'époque\n",
            "3/3 [==============================] - 2s 755ms/step - loss: 0.9090 - accuracy: 0.6324 - val_loss: 21.8814 - val_accuracy: 0.5935\n",
            "fin d'époque\n",
            "Epoch 56/100\n",
            "3/3 [==============================] - ETA: 0s - loss: 0.8551 - accuracy: 0.7188fin d'époque\n",
            "3/3 [==============================] - 1s 564ms/step - loss: 0.8551 - accuracy: 0.7188 - val_loss: 20.9671 - val_accuracy: 0.5986\n",
            "fin d'époque\n",
            "Epoch 57/100\n",
            "2/3 [===================>..........] - ETA: 0s - loss: 0.6956 - accuracy: 0.7778fin d'époque\n",
            "3/3 [==============================] - 1s 608ms/step - loss: 0.6982 - accuracy: 0.7941 - val_loss: 18.0204 - val_accuracy: 0.6611\n",
            "fin d'époque\n",
            "Epoch 58/100\n",
            "2/3 [===================>..........] - ETA: 0s - loss: 0.9469 - accuracy: 0.7031fin d'époque\n",
            "3/3 [==============================] - 2s 725ms/step - loss: 0.9523 - accuracy: 0.6771 - val_loss: 16.9230 - val_accuracy: 0.6819\n",
            "fin d'époque\n",
            "Epoch 59/100\n",
            "3/3 [==============================] - ETA: 0s - loss: 0.9715 - accuracy: 0.6471fin d'époque\n",
            "3/3 [==============================] - 2s 752ms/step - loss: 0.9715 - accuracy: 0.6471 - val_loss: 16.9600 - val_accuracy: 0.6915\n",
            "fin d'époque\n",
            "Epoch 60/100\n",
            "1/3 [=========>....................] - ETA: 0s - loss: 0.6823 - accuracy: 0.8125fin d'époque\n",
            "3/3 [==============================] - 1s 610ms/step - loss: 0.8973 - accuracy: 0.7647 - val_loss: 15.6604 - val_accuracy: 0.7122\n",
            "fin d'époque\n",
            "Epoch 61/100\n",
            "1/3 [=========>....................] - ETA: 0s - loss: 1.2035 - accuracy: 0.7188fin d'époque\n",
            "3/3 [==============================] - 2s 796ms/step - loss: 1.1317 - accuracy: 0.7059 - val_loss: 14.3325 - val_accuracy: 0.7169\n",
            "fin d'époque\n",
            "Epoch 62/100\n",
            "1/3 [=========>....................] - ETA: 0s - loss: 1.1130 - accuracy: 0.5625fin d'époque\n",
            "3/3 [==============================] - 1s 676ms/step - loss: 1.0896 - accuracy: 0.5735 - val_loss: 14.7188 - val_accuracy: 0.7007\n",
            "fin d'époque\n",
            "Epoch 63/100\n",
            "2/3 [===================>..........] - ETA: 0s - loss: 0.8062 - accuracy: 0.6944fin d'époque\n",
            "3/3 [==============================] - 1s 714ms/step - loss: 0.8853 - accuracy: 0.6765 - val_loss: 14.5774 - val_accuracy: 0.7109\n",
            "fin d'époque\n",
            "Epoch 64/100\n",
            "3/3 [==============================] - ETA: 0s - loss: 0.7771 - accuracy: 0.7396fin d'époque\n",
            "3/3 [==============================] - 1s 586ms/step - loss: 0.7771 - accuracy: 0.7396 - val_loss: 14.7959 - val_accuracy: 0.7159\n",
            "fin d'époque\n",
            "Epoch 65/100\n",
            "3/3 [==============================] - ETA: 0s - loss: 1.0031 - accuracy: 0.6771fin d'époque\n",
            "3/3 [==============================] - 1s 601ms/step - loss: 1.0031 - accuracy: 0.6771 - val_loss: 14.1158 - val_accuracy: 0.7304\n",
            "fin d'époque\n",
            "Epoch 66/100\n",
            "2/3 [===================>..........] - ETA: 0s - loss: 0.7425 - accuracy: 0.8333fin d'époque\n",
            "3/3 [==============================] - 1s 719ms/step - loss: 0.7073 - accuracy: 0.8088 - val_loss: 15.3088 - val_accuracy: 0.7287\n",
            "fin d'époque\n",
            "Epoch 67/100\n",
            "3/3 [==============================] - ETA: 0s - loss: 1.1175 - accuracy: 0.6875fin d'époque\n",
            "3/3 [==============================] - 1s 697ms/step - loss: 1.1175 - accuracy: 0.6875 - val_loss: 15.3796 - val_accuracy: 0.7370\n",
            "fin d'époque\n",
            "Epoch 68/100\n",
            "3/3 [==============================] - ETA: 0s - loss: 0.9682 - accuracy: 0.7059fin d'époque\n",
            "3/3 [==============================] - 1s 593ms/step - loss: 0.9682 - accuracy: 0.7059 - val_loss: 16.4303 - val_accuracy: 0.7281\n",
            "fin d'époque\n",
            "Epoch 69/100\n",
            "1/3 [=========>....................] - ETA: 0s - loss: 0.8500 - accuracy: 0.7500fin d'époque\n",
            "3/3 [==============================] - 1s 580ms/step - loss: 0.7551 - accuracy: 0.7941 - val_loss: 18.5958 - val_accuracy: 0.7247\n",
            "fin d'époque\n",
            "Epoch 70/100\n",
            "1/3 [=========>....................] - ETA: 0s - loss: 0.5174 - accuracy: 0.9688fin d'époque\n",
            "3/3 [==============================] - 1s 581ms/step - loss: 0.6176 - accuracy: 0.8529 - val_loss: 22.6300 - val_accuracy: 0.7072\n",
            "fin d'époque\n",
            "Epoch 71/100\n",
            "3/3 [==============================] - ETA: 0s - loss: 0.9111 - accuracy: 0.6979fin d'époque\n",
            "3/3 [==============================] - 1s 680ms/step - loss: 0.9111 - accuracy: 0.6979 - val_loss: 22.5795 - val_accuracy: 0.7150\n",
            "fin d'époque\n",
            "Epoch 72/100\n",
            "3/3 [==============================] - ETA: 0s - loss: 0.9786 - accuracy: 0.7188fin d'époque\n",
            "3/3 [==============================] - 1s 677ms/step - loss: 0.9786 - accuracy: 0.7188 - val_loss: 19.4869 - val_accuracy: 0.7264\n",
            "fin d'époque\n",
            "Epoch 73/100\n",
            "1/3 [=========>....................] - ETA: 0s - loss: 0.5399 - accuracy: 0.8750fin d'époque\n",
            "3/3 [==============================] - 1s 598ms/step - loss: 0.7769 - accuracy: 0.7647 - val_loss: 20.5838 - val_accuracy: 0.7201\n",
            "fin d'époque\n",
            "Epoch 74/100\n",
            "2/3 [===================>..........] - ETA: 0s - loss: 0.6997 - accuracy: 0.7500fin d'époque\n",
            "3/3 [==============================] - 1s 647ms/step - loss: 0.6172 - accuracy: 0.7500 - val_loss: 20.7826 - val_accuracy: 0.7387\n",
            "fin d'époque\n",
            "Epoch 75/100\n",
            "1/3 [=========>....................] - ETA: 0s - loss: 0.7804 - accuracy: 0.7500fin d'époque\n",
            "3/3 [==============================] - 1s 641ms/step - loss: 0.8590 - accuracy: 0.7206 - val_loss: 20.3512 - val_accuracy: 0.7524\n",
            "fin d'époque\n",
            "Epoch 76/100\n",
            "2/3 [===================>..........] - ETA: 0s - loss: 0.5243 - accuracy: 0.7222fin d'époque\n",
            "3/3 [==============================] - 1s 654ms/step - loss: 0.6626 - accuracy: 0.7206 - val_loss: 24.2411 - val_accuracy: 0.7541\n",
            "fin d'époque\n",
            "Epoch 77/100\n",
            "3/3 [==============================] - ETA: 0s - loss: 0.6417 - accuracy: 0.7917fin d'époque\n",
            "3/3 [==============================] - 1s 576ms/step - loss: 0.6417 - accuracy: 0.7917 - val_loss: 30.2419 - val_accuracy: 0.7328\n",
            "fin d'époque\n",
            "Epoch 78/100\n",
            "2/3 [===================>..........] - ETA: 0s - loss: 0.7776 - accuracy: 0.7778fin d'époque\n",
            "3/3 [==============================] - 1s 688ms/step - loss: 0.8441 - accuracy: 0.7206 - val_loss: 31.6058 - val_accuracy: 0.7354\n",
            "fin d'époque\n",
            "Epoch 79/100\n",
            "2/3 [===================>..........] - ETA: 0s - loss: 0.8748 - accuracy: 0.7778fin d'époque\n",
            "3/3 [==============================] - 1s 710ms/step - loss: 0.8478 - accuracy: 0.7647 - val_loss: 29.0394 - val_accuracy: 0.7399\n",
            "fin d'époque\n",
            "Epoch 80/100\n",
            "3/3 [==============================] - ETA: 0s - loss: 0.7249 - accuracy: 0.7708fin d'époque\n",
            "3/3 [==============================] - 2s 707ms/step - loss: 0.7249 - accuracy: 0.7708 - val_loss: 27.7296 - val_accuracy: 0.7163\n",
            "fin d'époque\n",
            "Epoch 81/100\n",
            "2/3 [===================>..........] - ETA: 0s - loss: 0.6428 - accuracy: 0.7500fin d'époque\n",
            "3/3 [==============================] - 1s 714ms/step - loss: 0.6642 - accuracy: 0.7206 - val_loss: 31.3278 - val_accuracy: 0.6907\n",
            "fin d'époque\n",
            "Epoch 82/100\n",
            "1/3 [=========>....................] - ETA: 0s - loss: 1.0040 - accuracy: 0.6875fin d'époque\n",
            "3/3 [==============================] - 1s 568ms/step - loss: 0.7508 - accuracy: 0.7794 - val_loss: 38.6925 - val_accuracy: 0.6614\n",
            "fin d'époque\n",
            "Epoch 83/100\n",
            "1/3 [=========>....................] - ETA: 0s - loss: 1.0416 - accuracy: 0.5938fin d'époque\n",
            "3/3 [==============================] - 1s 671ms/step - loss: 0.8027 - accuracy: 0.6912 - val_loss: 42.3282 - val_accuracy: 0.6598\n",
            "fin d'époque\n",
            "Epoch 84/100\n",
            "3/3 [==============================] - ETA: 0s - loss: 0.6050 - accuracy: 0.8088fin d'époque\n",
            "3/3 [==============================] - 2s 804ms/step - loss: 0.6050 - accuracy: 0.8088 - val_loss: 40.2545 - val_accuracy: 0.6938\n",
            "fin d'époque\n",
            "Epoch 85/100\n",
            "3/3 [==============================] - ETA: 0s - loss: 0.9502 - accuracy: 0.6875fin d'époque\n",
            "3/3 [==============================] - 1s 569ms/step - loss: 0.9502 - accuracy: 0.6875 - val_loss: 32.4412 - val_accuracy: 0.7419\n",
            "fin d'époque\n",
            "Epoch 86/100\n",
            "3/3 [==============================] - ETA: 0s - loss: 0.6341 - accuracy: 0.7708fin d'époque\n",
            "3/3 [==============================] - 2s 712ms/step - loss: 0.6341 - accuracy: 0.7708 - val_loss: 33.4395 - val_accuracy: 0.7584\n",
            "fin d'époque\n",
            "Epoch 87/100\n",
            "3/3 [==============================] - ETA: 0s - loss: 0.7887 - accuracy: 0.7812fin d'époque\n",
            "3/3 [==============================] - 1s 611ms/step - loss: 0.7887 - accuracy: 0.7812 - val_loss: 34.2179 - val_accuracy: 0.7607\n",
            "fin d'époque\n",
            "Epoch 88/100\n",
            "2/3 [===================>..........] - ETA: 0s - loss: 0.8937 - accuracy: 0.7500fin d'époque\n",
            "3/3 [==============================] - 1s 618ms/step - loss: 0.8907 - accuracy: 0.7500 - val_loss: 38.8326 - val_accuracy: 0.7221\n",
            "fin d'époque\n",
            "Epoch 89/100\n",
            "1/3 [=========>....................] - ETA: 0s - loss: 0.6773 - accuracy: 0.7500fin d'époque\n",
            "3/3 [==============================] - 1s 676ms/step - loss: 0.6261 - accuracy: 0.7941 - val_loss: 32.2812 - val_accuracy: 0.7214\n",
            "fin d'époque\n",
            "Epoch 90/100\n",
            "2/3 [===================>..........] - ETA: 0s - loss: 0.7403 - accuracy: 0.8333fin d'époque\n",
            "3/3 [==============================] - 2s 755ms/step - loss: 0.7593 - accuracy: 0.8088 - val_loss: 35.4539 - val_accuracy: 0.6955\n",
            "fin d'époque\n",
            "Epoch 91/100\n",
            "1/3 [=========>....................] - ETA: 0s - loss: 0.6461 - accuracy: 0.7500fin d'époque\n",
            "3/3 [==============================] - 1s 568ms/step - loss: 0.9897 - accuracy: 0.7206 - val_loss: 31.1693 - val_accuracy: 0.7017\n",
            "fin d'époque\n",
            "Epoch 92/100\n",
            "2/3 [===================>..........] - ETA: 0s - loss: 0.7707 - accuracy: 0.7222fin d'époque\n",
            "3/3 [==============================] - 1s 720ms/step - loss: 0.8545 - accuracy: 0.6471 - val_loss: 35.2221 - val_accuracy: 0.6717\n",
            "fin d'époque\n",
            "Epoch 93/100\n",
            "3/3 [==============================] - ETA: 0s - loss: 0.8880 - accuracy: 0.6875fin d'époque\n",
            "3/3 [==============================] - 2s 700ms/step - loss: 0.8880 - accuracy: 0.6875 - val_loss: 40.0103 - val_accuracy: 0.6557\n",
            "fin d'époque\n",
            "Epoch 94/100\n",
            "3/3 [==============================] - ETA: 0s - loss: 0.4203 - accuracy: 0.8235fin d'époque\n",
            "3/3 [==============================] - 1s 578ms/step - loss: 0.4203 - accuracy: 0.8235 - val_loss: 45.8511 - val_accuracy: 0.6345\n",
            "fin d'époque\n",
            "Epoch 95/100\n",
            "1/3 [=========>....................] - ETA: 0s - loss: 0.4055 - accuracy: 0.8438fin d'époque\n",
            "3/3 [==============================] - 2s 713ms/step - loss: 0.6018 - accuracy: 0.7794 - val_loss: 46.4332 - val_accuracy: 0.6372\n",
            "fin d'époque\n",
            "Epoch 96/100\n",
            "1/3 [=========>....................] - ETA: 0s - loss: 0.8304 - accuracy: 0.7188fin d'époque\n",
            "3/3 [==============================] - 2s 730ms/step - loss: 0.9056 - accuracy: 0.7206 - val_loss: 36.7072 - val_accuracy: 0.6824\n",
            "fin d'époque\n",
            "Epoch 97/100\n",
            "1/3 [=========>....................] - ETA: 0s - loss: 0.7925 - accuracy: 0.7812fin d'époque\n",
            "3/3 [==============================] - 1s 554ms/step - loss: 0.6979 - accuracy: 0.8088 - val_loss: 31.1421 - val_accuracy: 0.7143\n",
            "fin d'époque\n",
            "Epoch 98/100\n",
            "1/3 [=========>....................] - ETA: 0s - loss: 0.5817 - accuracy: 0.8125fin d'époque\n",
            "3/3 [==============================] - 1s 673ms/step - loss: 0.6149 - accuracy: 0.7604 - val_loss: 26.7746 - val_accuracy: 0.7532\n",
            "fin d'époque\n",
            "Epoch 99/100\n",
            "3/3 [==============================] - ETA: 0s - loss: 0.6719 - accuracy: 0.7083fin d'époque\n",
            "3/3 [==============================] - 2s 708ms/step - loss: 0.6719 - accuracy: 0.7083 - val_loss: 26.3885 - val_accuracy: 0.7650\n",
            "fin d'époque\n",
            "Epoch 100/100\n",
            "2/3 [===================>..........] - ETA: 0s - loss: 0.4920 - accuracy: 0.8056fin d'époque\n",
            "3/3 [==============================] - 1s 585ms/step - loss: 0.5159 - accuracy: 0.8088 - val_loss: 29.8700 - val_accuracy: 0.7526\n",
            "fin d'époque\n"
          ]
        }
      ]
    },
    {
      "cell_type": "markdown",
      "metadata": {
        "id": "Z0LLY5bTzHoW"
      },
      "source": [
        "## Best accuracy"
      ]
    },
    {
      "cell_type": "code",
      "metadata": {
        "id": "WMBXtVefzHoW",
        "colab": {
          "base_uri": "https://localhost:8080/"
        },
        "outputId": "54c3a2f3-c215-4cdf-a1fc-8dcdb5f1d033"
      },
      "source": [
        "#test_model = load_model(\"/content/weights-hub.hdf5\")\n",
        "test_loss, test_acc = model.evaluate(x_test, y_test)\n",
        "test_acc"
      ],
      "execution_count": 18,
      "outputs": [
        {
          "output_type": "stream",
          "name": "stdout",
          "text": [
            "313/313 [==============================] - 1s 3ms/step - loss: 29.8700 - accuracy: 0.7526\n"
          ]
        },
        {
          "output_type": "execute_result",
          "data": {
            "text/plain": [
              "0.7526000142097473"
            ]
          },
          "metadata": {},
          "execution_count": 18
        }
      ]
    },
    {
      "cell_type": "code",
      "metadata": {
        "id": "sv4fh0EDzHoX",
        "colab": {
          "base_uri": "https://localhost:8080/",
          "height": 573
        },
        "outputId": "959fe3a9-6dd9-408d-8aea-341096e1fb14"
      },
      "source": [
        "plt.plot(history2.history['accuracy'])\n",
        "plt.plot(history2.history['val_accuracy'])\n",
        "plt.title('model accuracy')\n",
        "plt.ylabel('accuracy')\n",
        "plt.xlabel('epoch')\n",
        "plt.legend(['train', 'test'], loc='upper left')\n",
        "plt.show()\n",
        "plt.plot(history2.history['loss'])\n",
        "plt.plot(history2.history['val_loss'])\n",
        "plt.title('model loss')\n",
        "plt.ylabel('loss')\n",
        "plt.xlabel('epoch')\n",
        "plt.legend(['train', 'test'], loc='upper left')\n",
        "plt.show()"
      ],
      "execution_count": 19,
      "outputs": [
        {
          "output_type": "display_data",
          "data": {
            "text/plain": [
              "<Figure size 432x288 with 1 Axes>"
            ],
            "image/png": "[encoded data removed]"
          },
          "metadata": {
            "needs_background": "light"
          }
        },
        {
          "output_type": "display_data",
          "data": {
            "text/plain": [
              "<Figure size 432x288 with 1 Axes>"
            ],
            "image/png": "[encoded data removed]"
          },
          "metadata": {
            "needs_background": "light"
          }
        }
      ]
    },
    {
      "cell_type": "code",
      "metadata": {
        "id": "pj1Syhw8zHoX"
      },
      "source": [],
      "execution_count": 19,
      "outputs": []
    },
    {
      "cell_type": "code",
      "metadata": {
        "id": "B6nH7XC1zHoX"
      },
      "source": [],
      "execution_count": 19,
      "outputs": []
    },
    {
      "cell_type": "markdown",
      "source": [
        "# all data"
      ],
      "metadata": {
        "id": "1tgEHaYQZSPC"
      }
    },
    {
      "cell_type": "code",
      "source": [],
      "metadata": {
        "id": "f1XUhurgZWcY"
      },
      "execution_count": 19,
      "outputs": []
    },
    {
      "cell_type": "code",
      "metadata": {
        "id": "KRcNMYFZZWo7"
      },
      "source": [
        "(train_images, train_labels), (test_images, test_labels) = mnist.load_data()\n",
        "train_images = train_images.reshape((60000, 28, 28, 1))\n",
        "train_images = train_images.astype('float32') / 255\n",
        "test_images = test_images.reshape((10000, 28, 28, 1)) \n",
        "test_images = test_images.astype('float32') / 255\n",
        "# train_labels = to_categorical(train_labels) \n",
        "test_labels = to_categorical(test_labels)\n",
        "\n",
        "\n",
        "x, y = shuffle(train_images, train_labels, random_state=15)\n",
        "x_train = x\n",
        "y_train = y.reshape(-1, 1)\n",
        "y_train = to_categorical(y_train) "
      ],
      "execution_count": 20,
      "outputs": []
    },
    {
      "cell_type": "code",
      "metadata": {
        "id": "zqviK3ZbZWo8",
        "colab": {
          "base_uri": "https://localhost:8080/"
        },
        "outputId": "07516d1b-3ce8-4be2-e15a-d8c680397029"
      },
      "source": [
        "x_train.shape"
      ],
      "execution_count": 21,
      "outputs": [
        {
          "output_type": "execute_result",
          "data": {
            "text/plain": [
              "(60000, 28, 28, 1)"
            ]
          },
          "metadata": {},
          "execution_count": 21
        }
      ]
    },
    {
      "cell_type": "code",
      "metadata": {
        "id": "LShVA0oFZihU"
      },
      "source": [
        "model = models.Sequential()\n",
        "model.add(Conv2D(32, (3, 3), input_shape=(28,28,1)))\n",
        "model.add(Activation('relu'))\n",
        "model.add(BatchNormalization(axis=-1))\n",
        "\n",
        "model.add(Conv2D(32, (3, 3)))\n",
        "model.add(Activation('relu'))\n",
        "model.add(MaxPooling2D(pool_size=(2,2)))\n",
        "\n",
        "model.add(BatchNormalization(axis=-1))\n",
        "model.add(Conv2D(64,(3, 3)))\n",
        "model.add(Activation('relu'))\n",
        "model.add(BatchNormalization(axis=-1))\n",
        "model.add(Conv2D(64, (3, 3)))\n",
        "model.add(Activation('relu'))\n",
        "model.add(MaxPooling2D(pool_size=(2,2)))\n",
        "\n",
        "model.add(Flatten())\n",
        "model.add(Dense(256, activation = \"relu\"))\n",
        "model.add(Dropout(0.5))\n",
        "model.add(Dense(10, activation = \"softmax\"))\n",
        "\n",
        "mcp = ModelCheckpoint(\"/content/baseline_allData_best.h5\", monitor='val_accuracy', verbose=0, save_best_only=True, mode='auto')\n",
        "\n",
        "model.compile(loss='categorical_crossentropy', optimizer = \"adam\", metrics = [\"accuracy\"])"
      ],
      "execution_count": 22,
      "outputs": []
    },
    {
      "cell_type": "code",
      "metadata": {
        "id": "I49CXvNsZihV",
        "colab": {
          "base_uri": "https://localhost:8080/"
        },
        "outputId": "aaa79bb9-abbb-4818-fecf-b11844af7027"
      },
      "source": [
        "model.summary()"
      ],
      "execution_count": 23,
      "outputs": [
        {
          "output_type": "stream",
          "name": "stdout",
          "text": [
            "Model: \"sequential_2\"\n",
            "_________________________________________________________________\n",
            " Layer (type)                Output Shape              Param #   \n",
            "=================================================================\n",
            " conv2d_8 (Conv2D)           (None, 26, 26, 32)        320       \n",
            "                                                                 \n",
            " activation_8 (Activation)   (None, 26, 26, 32)        0         \n",
            "                                                                 \n",
            " batch_normalization_6 (Batc  (None, 26, 26, 32)       128       \n",
            " hNormalization)                                                 \n",
            "                                                                 \n",
            " conv2d_9 (Conv2D)           (None, 24, 24, 32)        9248      \n",
            "                                                                 \n",
            " activation_9 (Activation)   (None, 24, 24, 32)        0         \n",
            "                                                                 \n",
            " max_pooling2d_4 (MaxPooling  (None, 12, 12, 32)       0         \n",
            " 2D)                                                             \n",
            "                                                                 \n",
            " batch_normalization_7 (Batc  (None, 12, 12, 32)       128       \n",
            " hNormalization)                                                 \n",
            "                                                                 \n",
            " conv2d_10 (Conv2D)          (None, 10, 10, 64)        18496     \n",
            "                                                                 \n",
            " activation_10 (Activation)  (None, 10, 10, 64)        0         \n",
            "                                                                 \n",
            " batch_normalization_8 (Batc  (None, 10, 10, 64)       256       \n",
            " hNormalization)                                                 \n",
            "                                                                 \n",
            " conv2d_11 (Conv2D)          (None, 8, 8, 64)          36928     \n",
            "                                                                 \n",
            " activation_11 (Activation)  (None, 8, 8, 64)          0         \n",
            "                                                                 \n",
            " max_pooling2d_5 (MaxPooling  (None, 4, 4, 64)         0         \n",
            " 2D)                                                             \n",
            "                                                                 \n",
            " flatten_2 (Flatten)         (None, 1024)              0         \n",
            "                                                                 \n",
            " dense_4 (Dense)             (None, 256)               262400    \n",
            "                                                                 \n",
            " dropout_2 (Dropout)         (None, 256)               0         \n",
            "                                                                 \n",
            " dense_5 (Dense)             (None, 10)                2570      \n",
            "                                                                 \n",
            "=================================================================\n",
            "Total params: 330,474\n",
            "Trainable params: 330,218\n",
            "Non-trainable params: 256\n",
            "_________________________________________________________________\n"
          ]
        }
      ]
    },
    {
      "cell_type": "code",
      "metadata": {
        "id": "4mq25FKZZihV",
        "colab": {
          "base_uri": "https://localhost:8080/"
        },
        "outputId": "bab92f99-4083-406b-ee54-d7df680fe879"
      },
      "source": [
        "history = model.fit(x_train, y_train, validation_data=(test_images, test_labels), epochs=EPOCHES, callbacks=[mcp])"
      ],
      "execution_count": 24,
      "outputs": [
        {
          "output_type": "stream",
          "name": "stdout",
          "text": [
            "Epoch 1/100\n",
            "1875/1875 [==============================] - 16s 7ms/step - loss: 0.1646 - accuracy: 0.9514 - val_loss: 0.0464 - val_accuracy: 0.9863\n",
            "Epoch 2/100\n",
            "1875/1875 [==============================] - 12s 6ms/step - loss: 0.0656 - accuracy: 0.9812 - val_loss: 0.0332 - val_accuracy: 0.9892\n",
            "Epoch 3/100\n",
            "1875/1875 [==============================] - 12s 7ms/step - loss: 0.0494 - accuracy: 0.9857 - val_loss: 0.0342 - val_accuracy: 0.9899\n",
            "Epoch 4/100\n",
            "1875/1875 [==============================] - 12s 7ms/step - loss: 0.0418 - accuracy: 0.9884 - val_loss: 0.0362 - val_accuracy: 0.9899\n",
            "Epoch 5/100\n",
            "1875/1875 [==============================] - 12s 6ms/step - loss: 0.0387 - accuracy: 0.9888 - val_loss: 0.0344 - val_accuracy: 0.9896\n",
            "Epoch 6/100\n",
            "1875/1875 [==============================] - 12s 7ms/step - loss: 0.0303 - accuracy: 0.9913 - val_loss: 0.0356 - val_accuracy: 0.9901\n",
            "Epoch 7/100\n",
            "1875/1875 [==============================] - 12s 7ms/step - loss: 0.0276 - accuracy: 0.9925 - val_loss: 0.0329 - val_accuracy: 0.9926\n",
            "Epoch 8/100\n",
            "1875/1875 [==============================] - 12s 6ms/step - loss: 0.0281 - accuracy: 0.9925 - val_loss: 0.0231 - val_accuracy: 0.9942\n",
            "Epoch 9/100\n",
            "1875/1875 [==============================] - 13s 7ms/step - loss: 0.0228 - accuracy: 0.9933 - val_loss: 0.0349 - val_accuracy: 0.9925\n",
            "Epoch 10/100\n",
            "1875/1875 [==============================] - 13s 7ms/step - loss: 0.0226 - accuracy: 0.9940 - val_loss: 0.0307 - val_accuracy: 0.9923\n",
            "Epoch 11/100\n",
            "1875/1875 [==============================] - 13s 7ms/step - loss: 0.0203 - accuracy: 0.9939 - val_loss: 0.0443 - val_accuracy: 0.9915\n",
            "Epoch 12/100\n",
            "1875/1875 [==============================] - 12s 7ms/step - loss: 0.0190 - accuracy: 0.9951 - val_loss: 0.0454 - val_accuracy: 0.9903\n",
            "Epoch 13/100\n",
            "1875/1875 [==============================] - 12s 6ms/step - loss: 0.0178 - accuracy: 0.9949 - val_loss: 0.0299 - val_accuracy: 0.9933\n",
            "Epoch 14/100\n",
            "1875/1875 [==============================] - 12s 6ms/step - loss: 0.0151 - accuracy: 0.9957 - val_loss: 0.0444 - val_accuracy: 0.9929\n",
            "Epoch 15/100\n",
            "1875/1875 [==============================] - 12s 7ms/step - loss: 0.0177 - accuracy: 0.9955 - val_loss: 0.0371 - val_accuracy: 0.9923\n",
            "Epoch 16/100\n",
            "1875/1875 [==============================] - 12s 6ms/step - loss: 0.0149 - accuracy: 0.9958 - val_loss: 0.0402 - val_accuracy: 0.9931\n",
            "Epoch 17/100\n",
            "1875/1875 [==============================] - 12s 7ms/step - loss: 0.0129 - accuracy: 0.9963 - val_loss: 0.0415 - val_accuracy: 0.9914\n",
            "Epoch 18/100\n",
            "1875/1875 [==============================] - 12s 7ms/step - loss: 0.0128 - accuracy: 0.9962 - val_loss: 0.0352 - val_accuracy: 0.9926\n",
            "Epoch 19/100\n",
            "1875/1875 [==============================] - 14s 8ms/step - loss: 0.0127 - accuracy: 0.9965 - val_loss: 0.0395 - val_accuracy: 0.9917\n",
            "Epoch 20/100\n",
            "1875/1875 [==============================] - 14s 8ms/step - loss: 0.0112 - accuracy: 0.9970 - val_loss: 0.0484 - val_accuracy: 0.9922\n",
            "Epoch 21/100\n",
            "1875/1875 [==============================] - 16s 9ms/step - loss: 0.0130 - accuracy: 0.9967 - val_loss: 0.0353 - val_accuracy: 0.9939\n",
            "Epoch 22/100\n",
            "1875/1875 [==============================] - 18s 10ms/step - loss: 0.0086 - accuracy: 0.9977 - val_loss: 0.0426 - val_accuracy: 0.9939\n",
            "Epoch 23/100\n",
            "1875/1875 [==============================] - 16s 9ms/step - loss: 0.0120 - accuracy: 0.9970 - val_loss: 0.0361 - val_accuracy: 0.9929\n",
            "Epoch 24/100\n",
            "1875/1875 [==============================] - 17s 9ms/step - loss: 0.0098 - accuracy: 0.9976 - val_loss: 0.0370 - val_accuracy: 0.9939\n",
            "Epoch 25/100\n",
            "1875/1875 [==============================] - 16s 9ms/step - loss: 0.0104 - accuracy: 0.9975 - val_loss: 0.0486 - val_accuracy: 0.9929\n",
            "Epoch 26/100\n",
            "1875/1875 [==============================] - 16s 9ms/step - loss: 0.0101 - accuracy: 0.9973 - val_loss: 0.0371 - val_accuracy: 0.9942\n",
            "Epoch 27/100\n",
            "1875/1875 [==============================] - 16s 9ms/step - loss: 0.0097 - accuracy: 0.9976 - val_loss: 0.0504 - val_accuracy: 0.9930\n",
            "Epoch 28/100\n",
            "1875/1875 [==============================] - 16s 9ms/step - loss: 0.0085 - accuracy: 0.9977 - val_loss: 0.0305 - val_accuracy: 0.9948\n",
            "Epoch 29/100\n",
            "1875/1875 [==============================] - 16s 9ms/step - loss: 0.0082 - accuracy: 0.9978 - val_loss: 0.0560 - val_accuracy: 0.9935\n",
            "Epoch 30/100\n",
            "1875/1875 [==============================] - 16s 8ms/step - loss: 0.0124 - accuracy: 0.9969 - val_loss: 0.0313 - val_accuracy: 0.9945\n",
            "Epoch 31/100\n",
            "1875/1875 [==============================] - 16s 8ms/step - loss: 0.0088 - accuracy: 0.9979 - val_loss: 0.0326 - val_accuracy: 0.9939\n",
            "Epoch 32/100\n",
            "1875/1875 [==============================] - 16s 9ms/step - loss: 0.0088 - accuracy: 0.9979 - val_loss: 0.0471 - val_accuracy: 0.9942\n",
            "Epoch 33/100\n",
            "1875/1875 [==============================] - 14s 7ms/step - loss: 0.0073 - accuracy: 0.9980 - val_loss: 0.0413 - val_accuracy: 0.9934\n",
            "Epoch 34/100\n",
            "1875/1875 [==============================] - 14s 8ms/step - loss: 0.0078 - accuracy: 0.9981 - val_loss: 0.0420 - val_accuracy: 0.9944\n",
            "Epoch 35/100\n",
            "1875/1875 [==============================] - 14s 7ms/step - loss: 0.0093 - accuracy: 0.9979 - val_loss: 0.0594 - val_accuracy: 0.9929\n",
            "Epoch 36/100\n",
            "1875/1875 [==============================] - 13s 7ms/step - loss: 0.0092 - accuracy: 0.9978 - val_loss: 0.0350 - val_accuracy: 0.9946\n",
            "Epoch 37/100\n",
            "1875/1875 [==============================] - 13s 7ms/step - loss: 0.0082 - accuracy: 0.9979 - val_loss: 0.0571 - val_accuracy: 0.9930\n",
            "Epoch 38/100\n",
            "1875/1875 [==============================] - 13s 7ms/step - loss: 0.0092 - accuracy: 0.9979 - val_loss: 0.0422 - val_accuracy: 0.9949\n",
            "Epoch 39/100\n",
            "1875/1875 [==============================] - 13s 7ms/step - loss: 0.0060 - accuracy: 0.9984 - val_loss: 0.0343 - val_accuracy: 0.9943\n",
            "Epoch 40/100\n",
            "1875/1875 [==============================] - 13s 7ms/step - loss: 0.0092 - accuracy: 0.9980 - val_loss: 0.0412 - val_accuracy: 0.9944\n",
            "Epoch 41/100\n",
            "1875/1875 [==============================] - 13s 7ms/step - loss: 0.0080 - accuracy: 0.9980 - val_loss: 0.0447 - val_accuracy: 0.9935\n",
            "Epoch 42/100\n",
            "1875/1875 [==============================] - 13s 7ms/step - loss: 0.0071 - accuracy: 0.9983 - val_loss: 0.0456 - val_accuracy: 0.9940\n",
            "Epoch 43/100\n",
            "1875/1875 [==============================] - 13s 7ms/step - loss: 0.0072 - accuracy: 0.9984 - val_loss: 0.0530 - val_accuracy: 0.9945\n",
            "Epoch 44/100\n",
            "1875/1875 [==============================] - 13s 7ms/step - loss: 0.0067 - accuracy: 0.9983 - val_loss: 0.0652 - val_accuracy: 0.9920\n",
            "Epoch 45/100\n",
            "1875/1875 [==============================] - 13s 7ms/step - loss: 0.0070 - accuracy: 0.9985 - val_loss: 0.0639 - val_accuracy: 0.9920\n",
            "Epoch 46/100\n",
            "1875/1875 [==============================] - 12s 7ms/step - loss: 0.0096 - accuracy: 0.9979 - val_loss: 0.0561 - val_accuracy: 0.9935\n",
            "Epoch 47/100\n",
            "1875/1875 [==============================] - 15s 8ms/step - loss: 0.0074 - accuracy: 0.9985 - val_loss: 0.0433 - val_accuracy: 0.9947\n",
            "Epoch 48/100\n",
            "1875/1875 [==============================] - 13s 7ms/step - loss: 0.0059 - accuracy: 0.9985 - val_loss: 0.0385 - val_accuracy: 0.9933\n",
            "Epoch 49/100\n",
            "1875/1875 [==============================] - 13s 7ms/step - loss: 0.0066 - accuracy: 0.9985 - val_loss: 0.0580 - val_accuracy: 0.9934\n",
            "Epoch 50/100\n",
            "1875/1875 [==============================] - 12s 7ms/step - loss: 0.0075 - accuracy: 0.9982 - val_loss: 0.0477 - val_accuracy: 0.9947\n",
            "Epoch 51/100\n",
            "1875/1875 [==============================] - 12s 6ms/step - loss: 0.0060 - accuracy: 0.9987 - val_loss: 0.0503 - val_accuracy: 0.9952\n",
            "Epoch 52/100\n",
            "1875/1875 [==============================] - 12s 7ms/step - loss: 0.0095 - accuracy: 0.9982 - val_loss: 0.0461 - val_accuracy: 0.9941\n",
            "Epoch 53/100\n",
            "1875/1875 [==============================] - 13s 7ms/step - loss: 0.0069 - accuracy: 0.9985 - val_loss: 0.0817 - val_accuracy: 0.9940\n",
            "Epoch 54/100\n",
            "1875/1875 [==============================] - 12s 6ms/step - loss: 0.0056 - accuracy: 0.9989 - val_loss: 0.0567 - val_accuracy: 0.9950\n",
            "Epoch 55/100\n",
            "1875/1875 [==============================] - 13s 7ms/step - loss: 0.0045 - accuracy: 0.9989 - val_loss: 0.0695 - val_accuracy: 0.9936\n",
            "Epoch 56/100\n",
            "1875/1875 [==============================] - 13s 7ms/step - loss: 0.0094 - accuracy: 0.9981 - val_loss: 0.0570 - val_accuracy: 0.9946\n",
            "Epoch 57/100\n",
            "1875/1875 [==============================] - 12s 6ms/step - loss: 0.0062 - accuracy: 0.9986 - val_loss: 0.0485 - val_accuracy: 0.9937\n",
            "Epoch 58/100\n",
            "1875/1875 [==============================] - 12s 7ms/step - loss: 0.0077 - accuracy: 0.9984 - val_loss: 0.0419 - val_accuracy: 0.9950\n",
            "Epoch 59/100\n",
            "1875/1875 [==============================] - 12s 7ms/step - loss: 0.0054 - accuracy: 0.9987 - val_loss: 0.0532 - val_accuracy: 0.9943\n",
            "Epoch 60/100\n",
            "1875/1875 [==============================] - 13s 7ms/step - loss: 0.0080 - accuracy: 0.9984 - val_loss: 0.0457 - val_accuracy: 0.9932\n",
            "Epoch 61/100\n",
            "1875/1875 [==============================] - 12s 6ms/step - loss: 0.0061 - accuracy: 0.9987 - val_loss: 0.0562 - val_accuracy: 0.9929\n",
            "Epoch 62/100\n",
            "1875/1875 [==============================] - 12s 6ms/step - loss: 0.0075 - accuracy: 0.9986 - val_loss: 0.0431 - val_accuracy: 0.9946\n",
            "Epoch 63/100\n",
            "1875/1875 [==============================] - 12s 6ms/step - loss: 0.0058 - accuracy: 0.9988 - val_loss: 0.0359 - val_accuracy: 0.9943\n",
            "Epoch 64/100\n",
            "1875/1875 [==============================] - 12s 6ms/step - loss: 0.0074 - accuracy: 0.9988 - val_loss: 0.0441 - val_accuracy: 0.9949\n",
            "Epoch 65/100\n",
            "1875/1875 [==============================] - 12s 7ms/step - loss: 0.0050 - accuracy: 0.9990 - val_loss: 0.0604 - val_accuracy: 0.9938\n",
            "Epoch 66/100\n",
            "1875/1875 [==============================] - 12s 6ms/step - loss: 0.0050 - accuracy: 0.9989 - val_loss: 0.0591 - val_accuracy: 0.9952\n",
            "Epoch 67/100\n",
            "1875/1875 [==============================] - 12s 7ms/step - loss: 0.0071 - accuracy: 0.9985 - val_loss: 0.0580 - val_accuracy: 0.9948\n",
            "Epoch 68/100\n",
            "1875/1875 [==============================] - 12s 7ms/step - loss: 0.0055 - accuracy: 0.9989 - val_loss: 0.0407 - val_accuracy: 0.9948\n",
            "Epoch 69/100\n",
            "1875/1875 [==============================] - 12s 6ms/step - loss: 0.0039 - accuracy: 0.9990 - val_loss: 0.0507 - val_accuracy: 0.9937\n",
            "Epoch 70/100\n",
            "1875/1875 [==============================] - 12s 6ms/step - loss: 0.0077 - accuracy: 0.9984 - val_loss: 0.0665 - val_accuracy: 0.9938\n",
            "Epoch 71/100\n",
            "1875/1875 [==============================] - 12s 6ms/step - loss: 0.0057 - accuracy: 0.9989 - val_loss: 0.0702 - val_accuracy: 0.9936\n",
            "Epoch 72/100\n",
            "1875/1875 [==============================] - 12s 6ms/step - loss: 0.0064 - accuracy: 0.9987 - val_loss: 0.0723 - val_accuracy: 0.9943\n",
            "Epoch 73/100\n",
            "1875/1875 [==============================] - 13s 7ms/step - loss: 0.0064 - accuracy: 0.9988 - val_loss: 0.0597 - val_accuracy: 0.9947\n",
            "Epoch 74/100\n",
            "1875/1875 [==============================] - 12s 7ms/step - loss: 0.0082 - accuracy: 0.9987 - val_loss: 0.0638 - val_accuracy: 0.9937\n",
            "Epoch 75/100\n",
            "1875/1875 [==============================] - 12s 6ms/step - loss: 0.0064 - accuracy: 0.9988 - val_loss: 0.1027 - val_accuracy: 0.9917\n",
            "Epoch 76/100\n",
            "1875/1875 [==============================] - 12s 7ms/step - loss: 0.0053 - accuracy: 0.9988 - val_loss: 0.0581 - val_accuracy: 0.9941\n",
            "Epoch 77/100\n",
            "1875/1875 [==============================] - 14s 7ms/step - loss: 0.0086 - accuracy: 0.9985 - val_loss: 0.0467 - val_accuracy: 0.9952\n",
            "Epoch 78/100\n",
            "1875/1875 [==============================] - 13s 7ms/step - loss: 0.0044 - accuracy: 0.9991 - val_loss: 0.0630 - val_accuracy: 0.9952\n",
            "Epoch 79/100\n",
            "1875/1875 [==============================] - 13s 7ms/step - loss: 0.0071 - accuracy: 0.9988 - val_loss: 0.0768 - val_accuracy: 0.9939\n",
            "Epoch 80/100\n",
            "1875/1875 [==============================] - 14s 7ms/step - loss: 0.0048 - accuracy: 0.9990 - val_loss: 0.0776 - val_accuracy: 0.9939\n",
            "Epoch 81/100\n",
            "1875/1875 [==============================] - 12s 7ms/step - loss: 0.0058 - accuracy: 0.9990 - val_loss: 0.1406 - val_accuracy: 0.9919\n",
            "Epoch 82/100\n",
            "1875/1875 [==============================] - 13s 7ms/step - loss: 0.0068 - accuracy: 0.9988 - val_loss: 0.0810 - val_accuracy: 0.9946\n",
            "Epoch 83/100\n",
            "1875/1875 [==============================] - 12s 7ms/step - loss: 0.0043 - accuracy: 0.9992 - val_loss: 0.1108 - val_accuracy: 0.9940\n",
            "Epoch 84/100\n",
            "1875/1875 [==============================] - 12s 7ms/step - loss: 0.0065 - accuracy: 0.9989 - val_loss: 0.0740 - val_accuracy: 0.9940\n",
            "Epoch 85/100\n",
            "1875/1875 [==============================] - 12s 7ms/step - loss: 0.0051 - accuracy: 0.9991 - val_loss: 0.0685 - val_accuracy: 0.9946\n",
            "Epoch 86/100\n",
            "1875/1875 [==============================] - 12s 7ms/step - loss: 0.0077 - accuracy: 0.9989 - val_loss: 0.0726 - val_accuracy: 0.9938\n",
            "Epoch 87/100\n",
            "1875/1875 [==============================] - 14s 7ms/step - loss: 0.0070 - accuracy: 0.9988 - val_loss: 0.0954 - val_accuracy: 0.9934\n",
            "Epoch 88/100\n",
            "1875/1875 [==============================] - 17s 9ms/step - loss: 0.0065 - accuracy: 0.9992 - val_loss: 0.1061 - val_accuracy: 0.9943\n",
            "Epoch 89/100\n",
            "1875/1875 [==============================] - 14s 7ms/step - loss: 0.0054 - accuracy: 0.9990 - val_loss: 0.0668 - val_accuracy: 0.9938\n",
            "Epoch 90/100\n",
            "1875/1875 [==============================] - 13s 7ms/step - loss: 0.0092 - accuracy: 0.9988 - val_loss: 0.0709 - val_accuracy: 0.9939\n",
            "Epoch 91/100\n",
            "1875/1875 [==============================] - 13s 7ms/step - loss: 0.0061 - accuracy: 0.9990 - val_loss: 0.0665 - val_accuracy: 0.9952\n",
            "Epoch 92/100\n",
            "1875/1875 [==============================] - 13s 7ms/step - loss: 0.0066 - accuracy: 0.9988 - val_loss: 0.1073 - val_accuracy: 0.9943\n",
            "Epoch 93/100\n",
            "1875/1875 [==============================] - 13s 7ms/step - loss: 0.0060 - accuracy: 0.9991 - val_loss: 0.0876 - val_accuracy: 0.9947\n",
            "Epoch 94/100\n",
            "1875/1875 [==============================] - 14s 7ms/step - loss: 0.0089 - accuracy: 0.9987 - val_loss: 0.0807 - val_accuracy: 0.9937\n",
            "Epoch 95/100\n",
            "1875/1875 [==============================] - 13s 7ms/step - loss: 0.0067 - accuracy: 0.9988 - val_loss: 0.0765 - val_accuracy: 0.9931\n",
            "Epoch 96/100\n",
            "1875/1875 [==============================] - 13s 7ms/step - loss: 0.0061 - accuracy: 0.9992 - val_loss: 0.0765 - val_accuracy: 0.9947\n",
            "Epoch 97/100\n",
            "1875/1875 [==============================] - 13s 7ms/step - loss: 0.0079 - accuracy: 0.9990 - val_loss: 0.0760 - val_accuracy: 0.9941\n",
            "Epoch 98/100\n",
            "1875/1875 [==============================] - 14s 7ms/step - loss: 0.0090 - accuracy: 0.9990 - val_loss: 0.0750 - val_accuracy: 0.9944\n",
            "Epoch 99/100\n",
            "1875/1875 [==============================] - 13s 7ms/step - loss: 0.0066 - accuracy: 0.9991 - val_loss: 0.0879 - val_accuracy: 0.9927\n",
            "Epoch 100/100\n",
            "1875/1875 [==============================] - 13s 7ms/step - loss: 0.0072 - accuracy: 0.9988 - val_loss: 0.0914 - val_accuracy: 0.9940\n"
          ]
        }
      ]
    },
    {
      "cell_type": "markdown",
      "metadata": {
        "id": "zepvYjKIZihV"
      },
      "source": [
        "### best accuracy"
      ]
    },
    {
      "cell_type": "code",
      "metadata": {
        "id": "GcazwqgMZihV",
        "colab": {
          "base_uri": "https://localhost:8080/"
        },
        "outputId": "828fa111-d09a-44f4-a9ee-73f1a2d3891d"
      },
      "source": [
        "#test_model = load_model(\"/content/baseline_allData_best.h5\")\n",
        "test_loss, test_acc = model.evaluate(test_images, test_labels)\n",
        "test_acc"
      ],
      "execution_count": 25,
      "outputs": [
        {
          "output_type": "stream",
          "name": "stdout",
          "text": [
            "313/313 [==============================] - 1s 4ms/step - loss: 0.0914 - accuracy: 0.9940\n"
          ]
        },
        {
          "output_type": "execute_result",
          "data": {
            "text/plain": [
              "0.9940000176429749"
            ]
          },
          "metadata": {},
          "execution_count": 25
        }
      ]
    },
    {
      "cell_type": "code",
      "metadata": {
        "id": "Ihp7Xyy4ZihV",
        "colab": {
          "base_uri": "https://localhost:8080/",
          "height": 573
        },
        "outputId": "c90c97a8-e144-4978-d86f-5d7b4db679f0"
      },
      "source": [
        "plt.plot(history.history['accuracy'])\n",
        "plt.plot(history.history['val_accuracy']) #val_accuracy #val_acc\n",
        "plt.title('model accuracy')\n",
        "plt.ylabel('accuracy')\n",
        "plt.xlabel('epoch')\n",
        "plt.legend(['train', 'test'], loc='upper left')\n",
        "plt.show()\n",
        "plt.plot(history.history['loss'])\n",
        "plt.plot(history.history['val_loss'])\n",
        "plt.title('model loss')\n",
        "plt.ylabel('loss')\n",
        "plt.xlabel('epoch')\n",
        "plt.legend(['train', 'test'], loc='upper left')\n",
        "plt.show()"
      ],
      "execution_count": 26,
      "outputs": [
        {
          "output_type": "display_data",
          "data": {
            "text/plain": [
              "<Figure size 432x288 with 1 Axes>"
            ],
            "image/png": "[encoded data removed]"
          },
          "metadata": {
            "needs_background": "light"
          }
        },
        {
          "output_type": "display_data",
          "data": {
            "text/plain": [
              "<Figure size 432x288 with 1 Axes>"
            ],
            "image/png": "[encoded data removed]"
          },
          "metadata": {
            "needs_background": "light"
          }
        }
      ]
    },
    {
      "cell_type": "code",
      "metadata": {
        "id": "rGGEsAXVZihW"
      },
      "source": [],
      "execution_count": 26,
      "outputs": []
    }
  ]
}